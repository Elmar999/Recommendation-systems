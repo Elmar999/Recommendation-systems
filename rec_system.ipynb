{
 "metadata": {
  "language_info": {
   "codemirror_mode": {
    "name": "ipython",
    "version": 3
   },
   "file_extension": ".py",
   "mimetype": "text/x-python",
   "name": "python",
   "nbconvert_exporter": "python",
   "pygments_lexer": "ipython3",
   "version": "3.6.9-final"
  },
  "orig_nbformat": 2,
  "kernelspec": {
   "name": "python3",
   "display_name": "Python 3",
   "language": "python"
  }
 },
 "nbformat": 4,
 "nbformat_minor": 2,
 "cells": [
  {
   "cell_type": "code",
   "execution_count": 1,
   "metadata": {},
   "outputs": [],
   "source": [
    "import sys\n",
    "import pandas as pd\n",
    "from sklearn.cluster import KMeans\n",
    "\n",
    "# sys.path.append(\".\")"
   ]
  },
  {
   "cell_type": "code",
   "execution_count": 2,
   "metadata": {},
   "outputs": [],
   "source": [
    "movies_genres = pd.read_csv(\"./movie_reviews/movie_genres.csv\")\n",
    "user_reviews = pd.read_csv(\"./movie_reviews/user_reviews.csv\")"
   ]
  },
  {
   "cell_type": "code",
   "execution_count": 3,
   "metadata": {},
   "outputs": [
    {
     "output_type": "execute_result",
     "data": {
      "text/plain": [
       "            movie_title  genre_action  genre_adventure  genre_animation  \\\n",
       "0               The Net             1                0                0   \n",
       "1  Happily N'Ever After             0                1                1   \n",
       "2          Tomorrowland             1                1                0   \n",
       "3         American Hero             1                0                0   \n",
       "4              Das Boot             0                1                0   \n",
       "\n",
       "   genre_biography  genre_comedy  genre_crime  genre_documentary  genre_drama  \\\n",
       "0                0             0            1                  0            1   \n",
       "1                0             1            0                  0            0   \n",
       "2                0             0            0                  0            0   \n",
       "3                0             1            0                  0            1   \n",
       "4                0             0            0                  0            1   \n",
       "\n",
       "   genre_family  ...  genre_mystery  genre_news  genre_reality-tv  \\\n",
       "0             0  ...              1           0                 0   \n",
       "1             1  ...              0           0                 0   \n",
       "2             1  ...              1           0                 0   \n",
       "3             0  ...              0           0                 0   \n",
       "4             0  ...              0           0                 0   \n",
       "\n",
       "   genre_romance  genre_sci-fi  genre_short  genre_sport  genre_thriller  \\\n",
       "0              0             0            0            0               1   \n",
       "1              0             0            0            0               0   \n",
       "2              0             1            0            0               0   \n",
       "3              0             1            0            0               0   \n",
       "4              0             0            0            0               1   \n",
       "\n",
       "   genre_war  genre_western  \n",
       "0          0              0  \n",
       "1          0              0  \n",
       "2          0              0  \n",
       "3          0              0  \n",
       "4          1              0  \n",
       "\n",
       "[5 rows x 26 columns]"
      ],
      "text/html": "<div>\n<style scoped>\n    .dataframe tbody tr th:only-of-type {\n        vertical-align: middle;\n    }\n\n    .dataframe tbody tr th {\n        vertical-align: top;\n    }\n\n    .dataframe thead th {\n        text-align: right;\n    }\n</style>\n<table border=\"1\" class=\"dataframe\">\n  <thead>\n    <tr style=\"text-align: right;\">\n      <th></th>\n      <th>movie_title</th>\n      <th>genre_action</th>\n      <th>genre_adventure</th>\n      <th>genre_animation</th>\n      <th>genre_biography</th>\n      <th>genre_comedy</th>\n      <th>genre_crime</th>\n      <th>genre_documentary</th>\n      <th>genre_drama</th>\n      <th>genre_family</th>\n      <th>...</th>\n      <th>genre_mystery</th>\n      <th>genre_news</th>\n      <th>genre_reality-tv</th>\n      <th>genre_romance</th>\n      <th>genre_sci-fi</th>\n      <th>genre_short</th>\n      <th>genre_sport</th>\n      <th>genre_thriller</th>\n      <th>genre_war</th>\n      <th>genre_western</th>\n    </tr>\n  </thead>\n  <tbody>\n    <tr>\n      <th>0</th>\n      <td>The Net</td>\n      <td>1</td>\n      <td>0</td>\n      <td>0</td>\n      <td>0</td>\n      <td>0</td>\n      <td>1</td>\n      <td>0</td>\n      <td>1</td>\n      <td>0</td>\n      <td>...</td>\n      <td>1</td>\n      <td>0</td>\n      <td>0</td>\n      <td>0</td>\n      <td>0</td>\n      <td>0</td>\n      <td>0</td>\n      <td>1</td>\n      <td>0</td>\n      <td>0</td>\n    </tr>\n    <tr>\n      <th>1</th>\n      <td>Happily N'Ever After</td>\n      <td>0</td>\n      <td>1</td>\n      <td>1</td>\n      <td>0</td>\n      <td>1</td>\n      <td>0</td>\n      <td>0</td>\n      <td>0</td>\n      <td>1</td>\n      <td>...</td>\n      <td>0</td>\n      <td>0</td>\n      <td>0</td>\n      <td>0</td>\n      <td>0</td>\n      <td>0</td>\n      <td>0</td>\n      <td>0</td>\n      <td>0</td>\n      <td>0</td>\n    </tr>\n    <tr>\n      <th>2</th>\n      <td>Tomorrowland</td>\n      <td>1</td>\n      <td>1</td>\n      <td>0</td>\n      <td>0</td>\n      <td>0</td>\n      <td>0</td>\n      <td>0</td>\n      <td>0</td>\n      <td>1</td>\n      <td>...</td>\n      <td>1</td>\n      <td>0</td>\n      <td>0</td>\n      <td>0</td>\n      <td>1</td>\n      <td>0</td>\n      <td>0</td>\n      <td>0</td>\n      <td>0</td>\n      <td>0</td>\n    </tr>\n    <tr>\n      <th>3</th>\n      <td>American Hero</td>\n      <td>1</td>\n      <td>0</td>\n      <td>0</td>\n      <td>0</td>\n      <td>1</td>\n      <td>0</td>\n      <td>0</td>\n      <td>1</td>\n      <td>0</td>\n      <td>...</td>\n      <td>0</td>\n      <td>0</td>\n      <td>0</td>\n      <td>0</td>\n      <td>1</td>\n      <td>0</td>\n      <td>0</td>\n      <td>0</td>\n      <td>0</td>\n      <td>0</td>\n    </tr>\n    <tr>\n      <th>4</th>\n      <td>Das Boot</td>\n      <td>0</td>\n      <td>1</td>\n      <td>0</td>\n      <td>0</td>\n      <td>0</td>\n      <td>0</td>\n      <td>0</td>\n      <td>1</td>\n      <td>0</td>\n      <td>...</td>\n      <td>0</td>\n      <td>0</td>\n      <td>0</td>\n      <td>0</td>\n      <td>0</td>\n      <td>0</td>\n      <td>0</td>\n      <td>1</td>\n      <td>1</td>\n      <td>0</td>\n    </tr>\n  </tbody>\n</table>\n<p>5 rows × 26 columns</p>\n</div>"
     },
     "metadata": {},
     "execution_count": 3
    }
   ],
   "source": [
    "movies_genres = movies_genres.drop(\"Unnamed: 0\", axis=1)\n",
    "movies_genres.head(5)\n",
    "# movies_genres.shape"
   ]
  },
  {
   "cell_type": "code",
   "execution_count": 4,
   "metadata": {},
   "outputs": [
    {
     "output_type": "execute_result",
     "data": {
      "text/plain": [
       "        User  The Net  Happily N'Ever After  Tomorrowland  American Hero  \\\n",
       "0    Vincent      0.0                   0.0           0.0            0.0   \n",
       "1      Edgar      0.0                   0.0           0.0            0.0   \n",
       "2    Addilyn      0.0                   0.0           0.0            0.0   \n",
       "3     Marlee      0.0                   0.0           0.0            0.0   \n",
       "4     Javier      0.0                   0.0           0.0            0.0   \n",
       "5     Marcus      0.0                   0.0           0.0            0.0   \n",
       "6       Mary      0.0                   0.0           0.0            0.0   \n",
       "7    Rosalie      0.0                   0.0           0.0            0.0   \n",
       "8   Giovanni      0.0                   0.0           0.0            0.0   \n",
       "9    Kennedi      0.0                   0.0           0.0            0.0   \n",
       "10     Alana      0.0                   2.0           0.0            0.0   \n",
       "11     Silas      0.0                   0.0           0.0            0.0   \n",
       "12   Kaitlyn      0.0                   1.0           0.0            0.0   \n",
       "13  Michelle      0.0                   0.0           0.0            0.0   \n",
       "14   Ophelia      0.0                   0.0           0.0            0.0   \n",
       "\n",
       "    Das Boot  Final Destination 3  Licence to Kill  The Hundred-Foot Journey  \\\n",
       "0        0.0                  0.0              0.0                       0.0   \n",
       "1        0.0                  0.0              0.0                       0.0   \n",
       "2        0.0                  0.0              0.0                       0.0   \n",
       "3        0.0                  0.0              0.0                       0.0   \n",
       "4        0.0                  0.0              0.0                       0.0   \n",
       "5        0.0                  0.0              0.0                       0.0   \n",
       "6        0.0                  0.0              0.0                       0.0   \n",
       "7        0.0                  0.0              0.0                       0.0   \n",
       "8        0.0                  0.0              0.0                       0.0   \n",
       "9        0.0                  0.0              0.0                       0.0   \n",
       "10       0.0                  0.0              0.0                       0.0   \n",
       "11       0.0                  0.0              0.0                       0.0   \n",
       "12       0.0                  0.0              0.0                       0.0   \n",
       "13       5.0                  0.0              0.0                       0.0   \n",
       "14       0.0                  0.0              0.0                       0.0   \n",
       "\n",
       "    The Matrix  ...  The Martian  Micmacs  Solomon and Sheba  \\\n",
       "0          0.0  ...          0.0      0.0                0.0   \n",
       "1          0.0  ...          0.0      0.0                0.0   \n",
       "2          0.0  ...          0.0      0.0                0.0   \n",
       "3          0.0  ...          0.0      0.0                0.0   \n",
       "4          0.0  ...          0.0      0.0                0.0   \n",
       "5          0.0  ...          0.0      0.0                0.0   \n",
       "6          0.0  ...          0.0      0.0                0.0   \n",
       "7          0.0  ...          0.0      0.0                0.0   \n",
       "8          0.0  ...          0.0      0.0                0.0   \n",
       "9          0.0  ...          0.0      0.0                0.0   \n",
       "10         0.0  ...          0.0      0.0                0.0   \n",
       "11         0.0  ...          0.0      0.0                0.0   \n",
       "12         0.0  ...          0.0      0.0                0.0   \n",
       "13         0.0  ...          0.0      0.0                0.0   \n",
       "14         0.0  ...          0.0      0.0                0.0   \n",
       "\n",
       "    In the Company of Men  Silent House  Big Fish  Get Real  Trading Places  \\\n",
       "0                     0.0           0.0       0.0       0.0             0.0   \n",
       "1                     0.0           0.0       0.0       0.0             0.0   \n",
       "2                     0.0           0.0       0.0       0.0             0.0   \n",
       "3                     0.0           0.0       0.0       0.0             0.0   \n",
       "4                     0.0           0.0       0.0       0.0             0.0   \n",
       "5                     0.0           0.0       0.0       0.0             0.0   \n",
       "6                     0.0           0.0       0.0       0.0             0.0   \n",
       "7                     0.0           0.0       0.0       0.0             0.0   \n",
       "8                     0.0           0.0       0.0       0.0             0.0   \n",
       "9                     3.0           0.0       0.0       0.0             0.0   \n",
       "10                    0.0           0.0       0.0       0.0             0.0   \n",
       "11                    0.0           0.0       0.0       0.0             0.0   \n",
       "12                    0.0           0.0       0.0       0.0             0.0   \n",
       "13                    0.0           0.0       0.0       0.0             0.0   \n",
       "14                    0.0           0.0       0.0       0.0             0.0   \n",
       "\n",
       "    DOA: Dead or Alive  Hey Arnold! The Movie  \n",
       "0                  0.0                    0.0  \n",
       "1                  0.0                    0.0  \n",
       "2                  0.0                    0.0  \n",
       "3                  0.0                    0.0  \n",
       "4                  0.0                    0.0  \n",
       "5                  0.0                    0.0  \n",
       "6                  0.0                    0.0  \n",
       "7                  0.0                    0.0  \n",
       "8                  0.0                    0.0  \n",
       "9                  1.0                    0.0  \n",
       "10                 0.0                    0.0  \n",
       "11                 0.0                    0.0  \n",
       "12                 0.0                    0.0  \n",
       "13                 0.0                    0.0  \n",
       "14                 0.0                    0.0  \n",
       "\n",
       "[15 rows x 2001 columns]"
      ],
      "text/html": "<div>\n<style scoped>\n    .dataframe tbody tr th:only-of-type {\n        vertical-align: middle;\n    }\n\n    .dataframe tbody tr th {\n        vertical-align: top;\n    }\n\n    .dataframe thead th {\n        text-align: right;\n    }\n</style>\n<table border=\"1\" class=\"dataframe\">\n  <thead>\n    <tr style=\"text-align: right;\">\n      <th></th>\n      <th>User</th>\n      <th>The Net</th>\n      <th>Happily N'Ever After</th>\n      <th>Tomorrowland</th>\n      <th>American Hero</th>\n      <th>Das Boot</th>\n      <th>Final Destination 3</th>\n      <th>Licence to Kill</th>\n      <th>The Hundred-Foot Journey</th>\n      <th>The Matrix</th>\n      <th>...</th>\n      <th>The Martian</th>\n      <th>Micmacs</th>\n      <th>Solomon and Sheba</th>\n      <th>In the Company of Men</th>\n      <th>Silent House</th>\n      <th>Big Fish</th>\n      <th>Get Real</th>\n      <th>Trading Places</th>\n      <th>DOA: Dead or Alive</th>\n      <th>Hey Arnold! The Movie</th>\n    </tr>\n  </thead>\n  <tbody>\n    <tr>\n      <th>0</th>\n      <td>Vincent</td>\n      <td>0.0</td>\n      <td>0.0</td>\n      <td>0.0</td>\n      <td>0.0</td>\n      <td>0.0</td>\n      <td>0.0</td>\n      <td>0.0</td>\n      <td>0.0</td>\n      <td>0.0</td>\n      <td>...</td>\n      <td>0.0</td>\n      <td>0.0</td>\n      <td>0.0</td>\n      <td>0.0</td>\n      <td>0.0</td>\n      <td>0.0</td>\n      <td>0.0</td>\n      <td>0.0</td>\n      <td>0.0</td>\n      <td>0.0</td>\n    </tr>\n    <tr>\n      <th>1</th>\n      <td>Edgar</td>\n      <td>0.0</td>\n      <td>0.0</td>\n      <td>0.0</td>\n      <td>0.0</td>\n      <td>0.0</td>\n      <td>0.0</td>\n      <td>0.0</td>\n      <td>0.0</td>\n      <td>0.0</td>\n      <td>...</td>\n      <td>0.0</td>\n      <td>0.0</td>\n      <td>0.0</td>\n      <td>0.0</td>\n      <td>0.0</td>\n      <td>0.0</td>\n      <td>0.0</td>\n      <td>0.0</td>\n      <td>0.0</td>\n      <td>0.0</td>\n    </tr>\n    <tr>\n      <th>2</th>\n      <td>Addilyn</td>\n      <td>0.0</td>\n      <td>0.0</td>\n      <td>0.0</td>\n      <td>0.0</td>\n      <td>0.0</td>\n      <td>0.0</td>\n      <td>0.0</td>\n      <td>0.0</td>\n      <td>0.0</td>\n      <td>...</td>\n      <td>0.0</td>\n      <td>0.0</td>\n      <td>0.0</td>\n      <td>0.0</td>\n      <td>0.0</td>\n      <td>0.0</td>\n      <td>0.0</td>\n      <td>0.0</td>\n      <td>0.0</td>\n      <td>0.0</td>\n    </tr>\n    <tr>\n      <th>3</th>\n      <td>Marlee</td>\n      <td>0.0</td>\n      <td>0.0</td>\n      <td>0.0</td>\n      <td>0.0</td>\n      <td>0.0</td>\n      <td>0.0</td>\n      <td>0.0</td>\n      <td>0.0</td>\n      <td>0.0</td>\n      <td>...</td>\n      <td>0.0</td>\n      <td>0.0</td>\n      <td>0.0</td>\n      <td>0.0</td>\n      <td>0.0</td>\n      <td>0.0</td>\n      <td>0.0</td>\n      <td>0.0</td>\n      <td>0.0</td>\n      <td>0.0</td>\n    </tr>\n    <tr>\n      <th>4</th>\n      <td>Javier</td>\n      <td>0.0</td>\n      <td>0.0</td>\n      <td>0.0</td>\n      <td>0.0</td>\n      <td>0.0</td>\n      <td>0.0</td>\n      <td>0.0</td>\n      <td>0.0</td>\n      <td>0.0</td>\n      <td>...</td>\n      <td>0.0</td>\n      <td>0.0</td>\n      <td>0.0</td>\n      <td>0.0</td>\n      <td>0.0</td>\n      <td>0.0</td>\n      <td>0.0</td>\n      <td>0.0</td>\n      <td>0.0</td>\n      <td>0.0</td>\n    </tr>\n    <tr>\n      <th>5</th>\n      <td>Marcus</td>\n      <td>0.0</td>\n      <td>0.0</td>\n      <td>0.0</td>\n      <td>0.0</td>\n      <td>0.0</td>\n      <td>0.0</td>\n      <td>0.0</td>\n      <td>0.0</td>\n      <td>0.0</td>\n      <td>...</td>\n      <td>0.0</td>\n      <td>0.0</td>\n      <td>0.0</td>\n      <td>0.0</td>\n      <td>0.0</td>\n      <td>0.0</td>\n      <td>0.0</td>\n      <td>0.0</td>\n      <td>0.0</td>\n      <td>0.0</td>\n    </tr>\n    <tr>\n      <th>6</th>\n      <td>Mary</td>\n      <td>0.0</td>\n      <td>0.0</td>\n      <td>0.0</td>\n      <td>0.0</td>\n      <td>0.0</td>\n      <td>0.0</td>\n      <td>0.0</td>\n      <td>0.0</td>\n      <td>0.0</td>\n      <td>...</td>\n      <td>0.0</td>\n      <td>0.0</td>\n      <td>0.0</td>\n      <td>0.0</td>\n      <td>0.0</td>\n      <td>0.0</td>\n      <td>0.0</td>\n      <td>0.0</td>\n      <td>0.0</td>\n      <td>0.0</td>\n    </tr>\n    <tr>\n      <th>7</th>\n      <td>Rosalie</td>\n      <td>0.0</td>\n      <td>0.0</td>\n      <td>0.0</td>\n      <td>0.0</td>\n      <td>0.0</td>\n      <td>0.0</td>\n      <td>0.0</td>\n      <td>0.0</td>\n      <td>0.0</td>\n      <td>...</td>\n      <td>0.0</td>\n      <td>0.0</td>\n      <td>0.0</td>\n      <td>0.0</td>\n      <td>0.0</td>\n      <td>0.0</td>\n      <td>0.0</td>\n      <td>0.0</td>\n      <td>0.0</td>\n      <td>0.0</td>\n    </tr>\n    <tr>\n      <th>8</th>\n      <td>Giovanni</td>\n      <td>0.0</td>\n      <td>0.0</td>\n      <td>0.0</td>\n      <td>0.0</td>\n      <td>0.0</td>\n      <td>0.0</td>\n      <td>0.0</td>\n      <td>0.0</td>\n      <td>0.0</td>\n      <td>...</td>\n      <td>0.0</td>\n      <td>0.0</td>\n      <td>0.0</td>\n      <td>0.0</td>\n      <td>0.0</td>\n      <td>0.0</td>\n      <td>0.0</td>\n      <td>0.0</td>\n      <td>0.0</td>\n      <td>0.0</td>\n    </tr>\n    <tr>\n      <th>9</th>\n      <td>Kennedi</td>\n      <td>0.0</td>\n      <td>0.0</td>\n      <td>0.0</td>\n      <td>0.0</td>\n      <td>0.0</td>\n      <td>0.0</td>\n      <td>0.0</td>\n      <td>0.0</td>\n      <td>0.0</td>\n      <td>...</td>\n      <td>0.0</td>\n      <td>0.0</td>\n      <td>0.0</td>\n      <td>3.0</td>\n      <td>0.0</td>\n      <td>0.0</td>\n      <td>0.0</td>\n      <td>0.0</td>\n      <td>1.0</td>\n      <td>0.0</td>\n    </tr>\n    <tr>\n      <th>10</th>\n      <td>Alana</td>\n      <td>0.0</td>\n      <td>2.0</td>\n      <td>0.0</td>\n      <td>0.0</td>\n      <td>0.0</td>\n      <td>0.0</td>\n      <td>0.0</td>\n      <td>0.0</td>\n      <td>0.0</td>\n      <td>...</td>\n      <td>0.0</td>\n      <td>0.0</td>\n      <td>0.0</td>\n      <td>0.0</td>\n      <td>0.0</td>\n      <td>0.0</td>\n      <td>0.0</td>\n      <td>0.0</td>\n      <td>0.0</td>\n      <td>0.0</td>\n    </tr>\n    <tr>\n      <th>11</th>\n      <td>Silas</td>\n      <td>0.0</td>\n      <td>0.0</td>\n      <td>0.0</td>\n      <td>0.0</td>\n      <td>0.0</td>\n      <td>0.0</td>\n      <td>0.0</td>\n      <td>0.0</td>\n      <td>0.0</td>\n      <td>...</td>\n      <td>0.0</td>\n      <td>0.0</td>\n      <td>0.0</td>\n      <td>0.0</td>\n      <td>0.0</td>\n      <td>0.0</td>\n      <td>0.0</td>\n      <td>0.0</td>\n      <td>0.0</td>\n      <td>0.0</td>\n    </tr>\n    <tr>\n      <th>12</th>\n      <td>Kaitlyn</td>\n      <td>0.0</td>\n      <td>1.0</td>\n      <td>0.0</td>\n      <td>0.0</td>\n      <td>0.0</td>\n      <td>0.0</td>\n      <td>0.0</td>\n      <td>0.0</td>\n      <td>0.0</td>\n      <td>...</td>\n      <td>0.0</td>\n      <td>0.0</td>\n      <td>0.0</td>\n      <td>0.0</td>\n      <td>0.0</td>\n      <td>0.0</td>\n      <td>0.0</td>\n      <td>0.0</td>\n      <td>0.0</td>\n      <td>0.0</td>\n    </tr>\n    <tr>\n      <th>13</th>\n      <td>Michelle</td>\n      <td>0.0</td>\n      <td>0.0</td>\n      <td>0.0</td>\n      <td>0.0</td>\n      <td>5.0</td>\n      <td>0.0</td>\n      <td>0.0</td>\n      <td>0.0</td>\n      <td>0.0</td>\n      <td>...</td>\n      <td>0.0</td>\n      <td>0.0</td>\n      <td>0.0</td>\n      <td>0.0</td>\n      <td>0.0</td>\n      <td>0.0</td>\n      <td>0.0</td>\n      <td>0.0</td>\n      <td>0.0</td>\n      <td>0.0</td>\n    </tr>\n    <tr>\n      <th>14</th>\n      <td>Ophelia</td>\n      <td>0.0</td>\n      <td>0.0</td>\n      <td>0.0</td>\n      <td>0.0</td>\n      <td>0.0</td>\n      <td>0.0</td>\n      <td>0.0</td>\n      <td>0.0</td>\n      <td>0.0</td>\n      <td>...</td>\n      <td>0.0</td>\n      <td>0.0</td>\n      <td>0.0</td>\n      <td>0.0</td>\n      <td>0.0</td>\n      <td>0.0</td>\n      <td>0.0</td>\n      <td>0.0</td>\n      <td>0.0</td>\n      <td>0.0</td>\n    </tr>\n  </tbody>\n</table>\n<p>15 rows × 2001 columns</p>\n</div>"
     },
     "metadata": {},
     "execution_count": 4
    }
   ],
   "source": [
    "user_reviews = user_reviews.drop(\"Unnamed: 0\", axis=1)\n",
    "user_reviews.head(15)\n",
    "# user_reviews.iloc[10, 1]\n"
   ]
  },
  {
   "cell_type": "code",
   "execution_count": 5,
   "metadata": {},
   "outputs": [],
   "source": [
    "# user_reviews.describe()\n",
    "users = list(user_reviews[\"User\"])\n",
    "user_reviews = user_reviews.drop(\"User\", axis=1)"
   ]
  },
  {
   "cell_type": "code",
   "execution_count": 6,
   "metadata": {},
   "outputs": [],
   "source": [
    "movie_titles = list(user_reviews.columns)\n",
    "users_dict = dict(zip(users, range(0, 600)))"
   ]
  },
  {
   "cell_type": "code",
   "execution_count": 7,
   "metadata": {},
   "outputs": [],
   "source": [
    "movies_genres = movies_genres.drop(\"movie_title\", axis=1)"
   ]
  },
  {
   "cell_type": "code",
   "execution_count": 8,
   "metadata": {},
   "outputs": [],
   "source": [
    "# users_dict"
   ]
  },
  {
   "cell_type": "code",
   "execution_count": 9,
   "metadata": {},
   "outputs": [
    {
     "output_type": "execute_result",
     "data": {
      "text/plain": [
       "      genre_action  genre_adventure  genre_animation  genre_biography  \\\n",
       "0                1                0                0                0   \n",
       "1                0                1                1                0   \n",
       "2                1                1                0                0   \n",
       "3                1                0                0                0   \n",
       "4                0                1                0                0   \n",
       "...            ...              ...              ...              ...   \n",
       "1995             0                1                0                0   \n",
       "1996             0                0                0                0   \n",
       "1997             0                0                0                0   \n",
       "1998             1                1                0                0   \n",
       "1999             0                1                1                0   \n",
       "\n",
       "      genre_comedy  genre_crime  genre_documentary  genre_drama  genre_family  \\\n",
       "0                0            1                  0            1             0   \n",
       "1                1            0                  0            0             1   \n",
       "2                0            0                  0            0             1   \n",
       "3                1            0                  0            1             0   \n",
       "4                0            0                  0            1             0   \n",
       "...            ...          ...                ...          ...           ...   \n",
       "1995             0            0                  0            1             0   \n",
       "1996             1            0                  0            1             0   \n",
       "1997             1            0                  0            0             0   \n",
       "1998             0            0                  0            0             0   \n",
       "1999             1            0                  0            0             1   \n",
       "\n",
       "      genre_fantasy  ...  genre_mystery  genre_news  genre_reality-tv  \\\n",
       "0                 0  ...              1           0                 0   \n",
       "1                 1  ...              0           0                 0   \n",
       "2                 0  ...              1           0                 0   \n",
       "3                 0  ...              0           0                 0   \n",
       "4                 0  ...              0           0                 0   \n",
       "...             ...  ...            ...         ...               ...   \n",
       "1995              1  ...              0           0                 0   \n",
       "1996              0  ...              0           0                 0   \n",
       "1997              0  ...              0           0                 0   \n",
       "1998              0  ...              0           0                 0   \n",
       "1999              0  ...              0           0                 0   \n",
       "\n",
       "      genre_romance  genre_sci-fi  genre_short  genre_sport  genre_thriller  \\\n",
       "0                 0             0            0            0               1   \n",
       "1                 0             0            0            0               0   \n",
       "2                 0             1            0            0               0   \n",
       "3                 0             1            0            0               0   \n",
       "4                 0             0            0            0               1   \n",
       "...             ...           ...          ...          ...             ...   \n",
       "1995              0             0            0            0               0   \n",
       "1996              1             0            0            0               0   \n",
       "1997              0             0            0            0               0   \n",
       "1998              0             0            0            0               0   \n",
       "1999              0             0            0            0               0   \n",
       "\n",
       "      genre_war  genre_western  \n",
       "0             0              0  \n",
       "1             0              0  \n",
       "2             0              0  \n",
       "3             0              0  \n",
       "4             1              0  \n",
       "...         ...            ...  \n",
       "1995          0              0  \n",
       "1996          0              0  \n",
       "1997          0              0  \n",
       "1998          0              0  \n",
       "1999          0              0  \n",
       "\n",
       "[2000 rows x 25 columns]"
      ],
      "text/html": "<div>\n<style scoped>\n    .dataframe tbody tr th:only-of-type {\n        vertical-align: middle;\n    }\n\n    .dataframe tbody tr th {\n        vertical-align: top;\n    }\n\n    .dataframe thead th {\n        text-align: right;\n    }\n</style>\n<table border=\"1\" class=\"dataframe\">\n  <thead>\n    <tr style=\"text-align: right;\">\n      <th></th>\n      <th>genre_action</th>\n      <th>genre_adventure</th>\n      <th>genre_animation</th>\n      <th>genre_biography</th>\n      <th>genre_comedy</th>\n      <th>genre_crime</th>\n      <th>genre_documentary</th>\n      <th>genre_drama</th>\n      <th>genre_family</th>\n      <th>genre_fantasy</th>\n      <th>...</th>\n      <th>genre_mystery</th>\n      <th>genre_news</th>\n      <th>genre_reality-tv</th>\n      <th>genre_romance</th>\n      <th>genre_sci-fi</th>\n      <th>genre_short</th>\n      <th>genre_sport</th>\n      <th>genre_thriller</th>\n      <th>genre_war</th>\n      <th>genre_western</th>\n    </tr>\n  </thead>\n  <tbody>\n    <tr>\n      <th>0</th>\n      <td>1</td>\n      <td>0</td>\n      <td>0</td>\n      <td>0</td>\n      <td>0</td>\n      <td>1</td>\n      <td>0</td>\n      <td>1</td>\n      <td>0</td>\n      <td>0</td>\n      <td>...</td>\n      <td>1</td>\n      <td>0</td>\n      <td>0</td>\n      <td>0</td>\n      <td>0</td>\n      <td>0</td>\n      <td>0</td>\n      <td>1</td>\n      <td>0</td>\n      <td>0</td>\n    </tr>\n    <tr>\n      <th>1</th>\n      <td>0</td>\n      <td>1</td>\n      <td>1</td>\n      <td>0</td>\n      <td>1</td>\n      <td>0</td>\n      <td>0</td>\n      <td>0</td>\n      <td>1</td>\n      <td>1</td>\n      <td>...</td>\n      <td>0</td>\n      <td>0</td>\n      <td>0</td>\n      <td>0</td>\n      <td>0</td>\n      <td>0</td>\n      <td>0</td>\n      <td>0</td>\n      <td>0</td>\n      <td>0</td>\n    </tr>\n    <tr>\n      <th>2</th>\n      <td>1</td>\n      <td>1</td>\n      <td>0</td>\n      <td>0</td>\n      <td>0</td>\n      <td>0</td>\n      <td>0</td>\n      <td>0</td>\n      <td>1</td>\n      <td>0</td>\n      <td>...</td>\n      <td>1</td>\n      <td>0</td>\n      <td>0</td>\n      <td>0</td>\n      <td>1</td>\n      <td>0</td>\n      <td>0</td>\n      <td>0</td>\n      <td>0</td>\n      <td>0</td>\n    </tr>\n    <tr>\n      <th>3</th>\n      <td>1</td>\n      <td>0</td>\n      <td>0</td>\n      <td>0</td>\n      <td>1</td>\n      <td>0</td>\n      <td>0</td>\n      <td>1</td>\n      <td>0</td>\n      <td>0</td>\n      <td>...</td>\n      <td>0</td>\n      <td>0</td>\n      <td>0</td>\n      <td>0</td>\n      <td>1</td>\n      <td>0</td>\n      <td>0</td>\n      <td>0</td>\n      <td>0</td>\n      <td>0</td>\n    </tr>\n    <tr>\n      <th>4</th>\n      <td>0</td>\n      <td>1</td>\n      <td>0</td>\n      <td>0</td>\n      <td>0</td>\n      <td>0</td>\n      <td>0</td>\n      <td>1</td>\n      <td>0</td>\n      <td>0</td>\n      <td>...</td>\n      <td>0</td>\n      <td>0</td>\n      <td>0</td>\n      <td>0</td>\n      <td>0</td>\n      <td>0</td>\n      <td>0</td>\n      <td>1</td>\n      <td>1</td>\n      <td>0</td>\n    </tr>\n    <tr>\n      <th>...</th>\n      <td>...</td>\n      <td>...</td>\n      <td>...</td>\n      <td>...</td>\n      <td>...</td>\n      <td>...</td>\n      <td>...</td>\n      <td>...</td>\n      <td>...</td>\n      <td>...</td>\n      <td>...</td>\n      <td>...</td>\n      <td>...</td>\n      <td>...</td>\n      <td>...</td>\n      <td>...</td>\n      <td>...</td>\n      <td>...</td>\n      <td>...</td>\n      <td>...</td>\n      <td>...</td>\n    </tr>\n    <tr>\n      <th>1995</th>\n      <td>0</td>\n      <td>1</td>\n      <td>0</td>\n      <td>0</td>\n      <td>0</td>\n      <td>0</td>\n      <td>0</td>\n      <td>1</td>\n      <td>0</td>\n      <td>1</td>\n      <td>...</td>\n      <td>0</td>\n      <td>0</td>\n      <td>0</td>\n      <td>0</td>\n      <td>0</td>\n      <td>0</td>\n      <td>0</td>\n      <td>0</td>\n      <td>0</td>\n      <td>0</td>\n    </tr>\n    <tr>\n      <th>1996</th>\n      <td>0</td>\n      <td>0</td>\n      <td>0</td>\n      <td>0</td>\n      <td>1</td>\n      <td>0</td>\n      <td>0</td>\n      <td>1</td>\n      <td>0</td>\n      <td>0</td>\n      <td>...</td>\n      <td>0</td>\n      <td>0</td>\n      <td>0</td>\n      <td>1</td>\n      <td>0</td>\n      <td>0</td>\n      <td>0</td>\n      <td>0</td>\n      <td>0</td>\n      <td>0</td>\n    </tr>\n    <tr>\n      <th>1997</th>\n      <td>0</td>\n      <td>0</td>\n      <td>0</td>\n      <td>0</td>\n      <td>1</td>\n      <td>0</td>\n      <td>0</td>\n      <td>0</td>\n      <td>0</td>\n      <td>0</td>\n      <td>...</td>\n      <td>0</td>\n      <td>0</td>\n      <td>0</td>\n      <td>0</td>\n      <td>0</td>\n      <td>0</td>\n      <td>0</td>\n      <td>0</td>\n      <td>0</td>\n      <td>0</td>\n    </tr>\n    <tr>\n      <th>1998</th>\n      <td>1</td>\n      <td>1</td>\n      <td>0</td>\n      <td>0</td>\n      <td>0</td>\n      <td>0</td>\n      <td>0</td>\n      <td>0</td>\n      <td>0</td>\n      <td>0</td>\n      <td>...</td>\n      <td>0</td>\n      <td>0</td>\n      <td>0</td>\n      <td>0</td>\n      <td>0</td>\n      <td>0</td>\n      <td>0</td>\n      <td>0</td>\n      <td>0</td>\n      <td>0</td>\n    </tr>\n    <tr>\n      <th>1999</th>\n      <td>0</td>\n      <td>1</td>\n      <td>1</td>\n      <td>0</td>\n      <td>1</td>\n      <td>0</td>\n      <td>0</td>\n      <td>0</td>\n      <td>1</td>\n      <td>0</td>\n      <td>...</td>\n      <td>0</td>\n      <td>0</td>\n      <td>0</td>\n      <td>0</td>\n      <td>0</td>\n      <td>0</td>\n      <td>0</td>\n      <td>0</td>\n      <td>0</td>\n      <td>0</td>\n    </tr>\n  </tbody>\n</table>\n<p>2000 rows × 25 columns</p>\n</div>"
     },
     "metadata": {},
     "execution_count": 9
    }
   ],
   "source": [
    "movies_genres"
   ]
  },
  {
   "cell_type": "code",
   "execution_count": 10,
   "metadata": {},
   "outputs": [],
   "source": [
    "# convert movie_titles to dictionary\n",
    "movie_titles_dict = dict(zip(movie_titles, range(0, 2000)))"
   ]
  },
  {
   "cell_type": "code",
   "execution_count": 11,
   "metadata": {},
   "outputs": [],
   "source": [
    "import matplotlib.pyplot as plt\n",
    "from sklearn.decomposition import PCA"
   ]
  },
  {
   "cell_type": "code",
   "execution_count": 12,
   "metadata": {},
   "outputs": [],
   "source": [
    "# function returns WSS score for k values from 1 to kmax\n",
    "def calculate_WSS(points, kmax):\n",
    "    '''\n",
    "    function calculates sum of all squared errors for each clusters in range between [1, 10]\n",
    "    '''\n",
    "    sse = []\n",
    "    for k in range(1, kmax+1):\n",
    "        kmeans = KMeans(n_clusters = k).fit(points)\n",
    "        centroids = kmeans.cluster_centers_\n",
    "        pred_clusters = kmeans.predict(points)\n",
    "        curr_sse = 0\n",
    "\n",
    "        # calculate square of Euclidean distance of each point from its cluster center and add to current WSS\n",
    "        for i in range(len(points)):\n",
    "            curr_center = centroids[pred_clusters[i]]\n",
    "            curr_sse += (points[i, 0] - curr_center[0]) ** 2 + (points[i, 1] - curr_center[1]) ** 2\n",
    "        sse.append(curr_sse)\n",
    "    return sse"
   ]
  },
  {
   "cell_type": "code",
   "execution_count": 13,
   "metadata": {},
   "outputs": [],
   "source": [
    "import numpy as np\n",
    "X = np.array(movies_genres)\n",
    "wss = calculate_WSS(X, 15)"
   ]
  },
  {
   "cell_type": "code",
   "execution_count": 14,
   "metadata": {},
   "outputs": [],
   "source": [
    "# wss"
   ]
  },
  {
   "cell_type": "code",
   "execution_count": 15,
   "metadata": {},
   "outputs": [],
   "source": [
    "def plot_elbow(wss, kmax):\n",
    "    '''\n",
    "    function plots wss scores according to each clusters\n",
    "    '''\n",
    "    \n",
    "    k_clusters = range(1, kmax+1)\n",
    "    \n",
    "    plt.figure(figsize=(10, 8))\n",
    "    plt.ylabel('WSS')\n",
    "    plt.xlabel('K cluster')\n",
    "\n",
    "    plt.plot(k_clusters, wss) # plot elbow line\n",
    "    plt.plot(k_clusters, wss, 'bo') # plot points\n",
    "    plt.plot((k_clusters[0], k_clusters[-1]), (wss[0], wss[-1]), 'ro-') #plot line between a0 and a_kmax\n",
    "\n",
    "    plt.xticks(k_clusters)\n",
    "    plt.title('WSS scores for each K clusters')\n",
    "    plt.show()\n",
    "\n",
    "# plot_elbow(wss, 21)"
   ]
  },
  {
   "cell_type": "code",
   "execution_count": 16,
   "metadata": {},
   "outputs": [
    {
     "output_type": "stream",
     "name": "stdout",
     "text": [
      "optimal K value is 6\n"
     ]
    }
   ],
   "source": [
    "def optimum_k(wcss, n_clusters):\n",
    "    '''\n",
    "    function calculates optimal K by finding distances between cluster points and line, \n",
    "    it takes the highest one as optimal cluster.\n",
    "    '''\n",
    "    k_clusters = range(1, n_clusters+1)\n",
    "\n",
    "    x1, y1 = 2, wcss[0] # first point\n",
    "    x2, y2 = 20, wcss[-1] # last point\n",
    "\n",
    "    distances = []\n",
    "    for i in range(len(wcss)):\n",
    "        x0 = k_clusters[i]\n",
    "        y0 = wcss[i]\n",
    "        numerator = abs((y2-y1)*x0 - (x2-x1)*y0 + x2*y1 - y2*x1)\n",
    "        denominator = np.sqrt((y2 - y1)**2 + (x2 - x1)**2)\n",
    "        distances.append(numerator/denominator)\n",
    "\n",
    "    return distances, distances.index(max(distances)) + 1\n",
    "\n",
    "distances, k_opt = optimum_k(wss, 21)\n",
    "print(\"optimal K value is\", k_opt)"
   ]
  },
  {
   "cell_type": "code",
   "execution_count": 17,
   "metadata": {},
   "outputs": [
    {
     "output_type": "execute_result",
     "data": {
      "text/plain": [
       "KMeans(algorithm='auto', copy_x=True, init='k-means++', max_iter=300,\n",
       "       n_clusters=6, n_init=10, n_jobs=None, precompute_distances='auto',\n",
       "       random_state=None, tol=0.0001, verbose=0)"
      ]
     },
     "metadata": {},
     "execution_count": 17
    }
   ],
   "source": [
    "km = KMeans(n_clusters=k_opt)\n",
    "km.fit(movies_genres)"
   ]
  },
  {
   "cell_type": "code",
   "execution_count": 18,
   "metadata": {},
   "outputs": [],
   "source": [
    "cluster_labels = km.predict(movies_genres)"
   ]
  },
  {
   "cell_type": "code",
   "execution_count": 19,
   "metadata": {},
   "outputs": [],
   "source": [
    "# cluster_labels[0]"
   ]
  },
  {
   "cell_type": "code",
   "execution_count": 20,
   "metadata": {},
   "outputs": [],
   "source": [
    "def extract_unrated_movies(user_reviews, user_index):\n",
    "    '''\n",
    "    function will get user_review, and user_index that belongs to corresponding user name,\n",
    "    then it will extract movie names that user did not rate at all.\n",
    "    '''\n",
    "\n",
    "    unrated_movies = list()\n",
    "    for movie in list(user_reviews.columns):\n",
    "        if user_reviews[movie][user_index] == 0:\n",
    "            unrated_movies.append(movie)\n",
    "\n",
    "    return unrated_movies"
   ]
  },
  {
   "cell_type": "code",
   "execution_count": 21,
   "metadata": {},
   "outputs": [],
   "source": [
    "def rate_movie(cluster_point, cluster_labels, user_index):\n",
    "    '''\n",
    "    function will loop through all the movies that belongs to cluster point,\n",
    "    will sum all the ratings that he gave to other movies, output an average rating. \n",
    "    '''\n",
    "    scores = list()\n",
    "    for movie_index, cluster in enumerate(cluster_labels):\n",
    "        if cluster == cluster_point:\n",
    "            rating = user_reviews.iloc[user_index, movie_index]\n",
    "            if user_reviews.iloc[user_index, movie_index] != 0:\n",
    "                scores.append(rating)\n",
    "                \n",
    "    return np.mean(scores) if len(scores)!=0 else 1\n",
    "\n",
    "\n",
    "def movie_predictor(movie_names, user_name, movie_titles_dict, cluster_labels):\n",
    "    '''\n",
    "    function will get movie names and user name,\n",
    "    will output the predicted ratings for each movie.\n",
    "    '''\n",
    "\n",
    "    movies_index = list()\n",
    "    movie_scores = list()\n",
    "    for movie in movie_names:\n",
    "        # get movie cluster point        \n",
    "        cluster_point = cluster_labels[movie_titles_dict[movie]]\n",
    "        score = rate_movie(cluster_point, cluster_labels, users_dict[user_name])\n",
    "        movie_scores.append(int(np.round(score)))\n",
    "\n",
    "    return movie_scores\n",
    "\n",
    "\n",
    "# scores = movie_predictor(['The Net', ], 'Vincent', movie_titles_dict, cluster_labels)\n"
   ]
  },
  {
   "source": [
    "user_name = 'Vincent'\n",
    "unrated_movies = extract_unrated_movies(user_reviews, users_dict[user_name])\n",
    "# unrated_movies"
   ],
   "cell_type": "code",
   "metadata": {},
   "execution_count": 22,
   "outputs": []
  },
  {
   "cell_type": "code",
   "execution_count": 23,
   "metadata": {},
   "outputs": [],
   "source": [
    "scores = movie_predictor(unrated_movies, user_name, movie_titles_dict, cluster_labels)\n",
    "dt_Vincent = pd.DataFrame({'movies': unrated_movies, 'ratings': scores}).sort_values(by=['ratings'], ascending=False)"
   ]
  },
  {
   "cell_type": "code",
   "execution_count": 24,
   "metadata": {},
   "outputs": [
    {
     "output_type": "execute_result",
     "data": {
      "text/plain": [
       "['Living Dark: The Story of Ted the Caver',\n",
       " 'Krampus',\n",
       " 'Return of the Living Dead III',\n",
       " \"Freddy's Dead: The Final Nightmare\",\n",
       " 'Wolves']"
      ]
     },
     "metadata": {},
     "execution_count": 24
    }
   ],
   "source": [
    "# suggested 5 movies\n",
    "dt_Vincent.head(5)\n",
    "list(dt_Vincent.movies[:5])"
   ]
  },
  {
   "cell_type": "code",
   "execution_count": 25,
   "metadata": {},
   "outputs": [],
   "source": [
    "user_name = 'Edgar'\n",
    "unrated_movies = extract_unrated_movies(user_reviews, users_dict[user_name])\n",
    "scores = movie_predictor(unrated_movies, user_name, movie_titles_dict, cluster_labels)\n",
    "dt_Edgar = pd.DataFrame({'movies': unrated_movies, 'ratings': scores}).sort_values(by=['ratings'], ascending=False)"
   ]
  },
  {
   "cell_type": "code",
   "execution_count": 26,
   "metadata": {},
   "outputs": [
    {
     "output_type": "execute_result",
     "data": {
      "text/plain": [
       "['The Net',\n",
       " 'Born of War',\n",
       " 'Dragonfly',\n",
       " 'The Twilight Saga: New Moon',\n",
       " 'Freeze Frame']"
      ]
     },
     "metadata": {},
     "execution_count": 26
    }
   ],
   "source": [
    "dt_Edgar.head(5)\n",
    "list(dt_Edgar.movies[:5])"
   ]
  },
  {
   "cell_type": "code",
   "execution_count": 27,
   "metadata": {},
   "outputs": [],
   "source": [
    "user_name = 'Addilyn'\n",
    "unrated_movies = extract_unrated_movies(user_reviews, users_dict[user_name])\n",
    "scores = movie_predictor(unrated_movies, user_name, movie_titles_dict, cluster_labels)\n",
    "dt_Addilyn = pd.DataFrame({'movies': unrated_movies, 'ratings': scores}).sort_values(by=['ratings'], ascending=False)"
   ]
  },
  {
   "cell_type": "code",
   "execution_count": 28,
   "metadata": {},
   "outputs": [
    {
     "output_type": "execute_result",
     "data": {
      "text/plain": [
       "['Hey Arnold! The Movie',\n",
       " \"The Emperor's New Groove\",\n",
       " 'Old Dogs',\n",
       " 'The Princess Bride',\n",
       " 'Treasure Planet']"
      ]
     },
     "metadata": {},
     "execution_count": 28
    }
   ],
   "source": [
    "dt_Addilyn.head(5)\n",
    "list(dt_Addilyn.movies[:5])"
   ]
  },
  {
   "cell_type": "code",
   "execution_count": 29,
   "metadata": {},
   "outputs": [],
   "source": [
    "user_name = 'Marlee'\n",
    "unrated_movies = extract_unrated_movies(user_reviews, users_dict[user_name])\n",
    "scores = movie_predictor(unrated_movies, user_name, movie_titles_dict, cluster_labels)\n",
    "dt_Marlee = pd.DataFrame({'movies': unrated_movies, 'ratings': scores}).sort_values(by=['ratings'], ascending=False)"
   ]
  },
  {
   "cell_type": "code",
   "execution_count": 30,
   "metadata": {},
   "outputs": [
    {
     "output_type": "execute_result",
     "data": {
      "text/plain": [
       "['The Net', 'Light It Up', 'West Side Story', 'Money Monster', 'Jaws']"
      ]
     },
     "metadata": {},
     "execution_count": 30
    }
   ],
   "source": [
    "dt_Marlee.head(5)\n",
    "list(dt_Marlee.movies[:5])"
   ]
  },
  {
   "cell_type": "code",
   "execution_count": 31,
   "metadata": {},
   "outputs": [],
   "source": [
    "user_name = 'Javier'\n",
    "unrated_movies = extract_unrated_movies(user_reviews, users_dict[user_name])\n",
    "scores = movie_predictor(unrated_movies, user_name, movie_titles_dict, cluster_labels)\n",
    "dt_Javier = pd.DataFrame({'movies': unrated_movies, 'ratings': scores}).sort_values(by=['ratings'], ascending=False)"
   ]
  },
  {
   "cell_type": "code",
   "execution_count": 32,
   "metadata": {},
   "outputs": [
    {
     "output_type": "execute_result",
     "data": {
      "text/plain": [
       "['Hey Arnold! The Movie',\n",
       " 'Sabrina, the Teenage Witch',\n",
       " 'Flushed Away',\n",
       " 'Legend of Kung Fu Rabbit',\n",
       " 'Bedtime Stories']"
      ]
     },
     "metadata": {},
     "execution_count": 32
    }
   ],
   "source": [
    "dt_Javier.head(5)\n",
    "list(dt_Javier.movies[:5])"
   ]
  },
  {
   "cell_type": "code",
   "execution_count": null,
   "metadata": {},
   "outputs": [],
   "source": []
  },
  {
   "cell_type": "code",
   "execution_count": null,
   "metadata": {},
   "outputs": [],
   "source": []
  }
 ]
}