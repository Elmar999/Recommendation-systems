{
 "metadata": {
  "language_info": {
   "codemirror_mode": {
    "name": "ipython",
    "version": 3
   },
   "file_extension": ".py",
   "mimetype": "text/x-python",
   "name": "python",
   "nbconvert_exporter": "python",
   "pygments_lexer": "ipython3",
   "version": "3.6.9-final"
  },
  "orig_nbformat": 2,
  "kernelspec": {
   "name": "python3",
   "display_name": "Python 3",
   "language": "python"
  }
 },
 "nbformat": 4,
 "nbformat_minor": 2,
 "cells": [
  {
   "cell_type": "code",
   "execution_count": 8,
   "metadata": {},
   "outputs": [],
   "source": [
    "import torch\n",
    "import torchvision\n",
    "import numpy as np\n",
    "import pandas as pd\n",
    "import seaborn as sns\n",
    "import matplotlib.pyplot as plt\n",
    "import tensorflow as tf\n",
    "\n",
    "%config InlineBackend.figure_format = 'svg' \n",
    "plt.style.use('seaborn')"
   ]
  },
  {
   "cell_type": "code",
   "execution_count": 9,
   "metadata": {},
   "outputs": [],
   "source": [
    "import os\n",
    "os.environ['TF_CPP_MIN_LOG_LEVEL'] = '3'\n",
    "gpus = tf.config.experimental.list_physical_devices('GPU')\n",
    "if gpus:\n",
    "    try:\n",
    "        for gpu in gpus:\n",
    "            tf.config.experimental.set_memory_growth(gpu, True)\n",
    "\n",
    "    except RuntimeError as e:\n",
    "        print(e)\n"
   ]
  },
  {
   "cell_type": "code",
   "execution_count": 10,
   "metadata": {},
   "outputs": [],
   "source": [
    "ratings_data = pd.read_csv('./ml-latest-small/ratings.csv')\n",
    "movie_names_data = pd.read_csv('./ml-latest-small/movies.csv')"
   ]
  },
  {
   "cell_type": "code",
   "execution_count": 11,
   "metadata": {},
   "outputs": [],
   "source": [
    "n_movies = len(movie_names_data)\n",
    "n_user = len(ratings_data['userId'].unique())"
   ]
  },
  {
   "cell_type": "code",
   "execution_count": 12,
   "metadata": {},
   "outputs": [],
   "source": [
    "ratings_data = pd.merge(ratings_data, movie_names_data, on='movieId', how='inner')"
   ]
  },
  {
   "cell_type": "code",
   "execution_count": 13,
   "metadata": {},
   "outputs": [
    {
     "output_type": "execute_result",
     "data": {
      "text/plain": [
       "   userId  movieId  rating   timestamp             title  \\\n",
       "0       1        1     4.0   964982703  Toy Story (1995)   \n",
       "1       5        1     4.0   847434962  Toy Story (1995)   \n",
       "2       7        1     4.5  1106635946  Toy Story (1995)   \n",
       "3      15        1     2.5  1510577970  Toy Story (1995)   \n",
       "4      17        1     4.5  1305696483  Toy Story (1995)   \n",
       "\n",
       "                                        genres  \n",
       "0  Adventure|Animation|Children|Comedy|Fantasy  \n",
       "1  Adventure|Animation|Children|Comedy|Fantasy  \n",
       "2  Adventure|Animation|Children|Comedy|Fantasy  \n",
       "3  Adventure|Animation|Children|Comedy|Fantasy  \n",
       "4  Adventure|Animation|Children|Comedy|Fantasy  "
      ],
      "text/html": "<div>\n<style scoped>\n    .dataframe tbody tr th:only-of-type {\n        vertical-align: middle;\n    }\n\n    .dataframe tbody tr th {\n        vertical-align: top;\n    }\n\n    .dataframe thead th {\n        text-align: right;\n    }\n</style>\n<table border=\"1\" class=\"dataframe\">\n  <thead>\n    <tr style=\"text-align: right;\">\n      <th></th>\n      <th>userId</th>\n      <th>movieId</th>\n      <th>rating</th>\n      <th>timestamp</th>\n      <th>title</th>\n      <th>genres</th>\n    </tr>\n  </thead>\n  <tbody>\n    <tr>\n      <th>0</th>\n      <td>1</td>\n      <td>1</td>\n      <td>4.0</td>\n      <td>964982703</td>\n      <td>Toy Story (1995)</td>\n      <td>Adventure|Animation|Children|Comedy|Fantasy</td>\n    </tr>\n    <tr>\n      <th>1</th>\n      <td>5</td>\n      <td>1</td>\n      <td>4.0</td>\n      <td>847434962</td>\n      <td>Toy Story (1995)</td>\n      <td>Adventure|Animation|Children|Comedy|Fantasy</td>\n    </tr>\n    <tr>\n      <th>2</th>\n      <td>7</td>\n      <td>1</td>\n      <td>4.5</td>\n      <td>1106635946</td>\n      <td>Toy Story (1995)</td>\n      <td>Adventure|Animation|Children|Comedy|Fantasy</td>\n    </tr>\n    <tr>\n      <th>3</th>\n      <td>15</td>\n      <td>1</td>\n      <td>2.5</td>\n      <td>1510577970</td>\n      <td>Toy Story (1995)</td>\n      <td>Adventure|Animation|Children|Comedy|Fantasy</td>\n    </tr>\n    <tr>\n      <th>4</th>\n      <td>17</td>\n      <td>1</td>\n      <td>4.5</td>\n      <td>1305696483</td>\n      <td>Toy Story (1995)</td>\n      <td>Adventure|Animation|Children|Comedy|Fantasy</td>\n    </tr>\n  </tbody>\n</table>\n</div>"
     },
     "metadata": {},
     "execution_count": 13
    }
   ],
   "source": [
    "ratings_data.head()"
   ]
  },
  {
   "cell_type": "code",
   "execution_count": 14,
   "metadata": {},
   "outputs": [],
   "source": [
    "# us = ratings_data[ratings_data['userId'] == 1]\n",
    "# a = us[us['movieId'] == 1].loc[:, 'genres']"
   ]
  },
  {
   "cell_type": "code",
   "execution_count": 15,
   "metadata": {},
   "outputs": [],
   "source": [
    "from sklearn.preprocessing import LabelEncoder\n",
    "import random\n",
    "Y = ratings_data.rating\n",
    "user_enc = LabelEncoder()\n",
    "movie_enc = LabelEncoder()\n",
    "X = np.array([user_enc.fit_transform(ratings_data.userId),\n",
    "              movie_enc.fit_transform(ratings_data.title)]).T"
   ]
  },
  {
   "cell_type": "code",
   "execution_count": 16,
   "metadata": {},
   "outputs": [
    {
     "output_type": "execute_result",
     "data": {
      "text/plain": [
       "(5, 'Toy Story (1995)')"
      ]
     },
     "metadata": {},
     "execution_count": 16
    }
   ],
   "source": [
    "user_enc.classes_[4], movie_enc.classes_[8871]"
   ]
  },
  {
   "cell_type": "code",
   "execution_count": 17,
   "metadata": {},
   "outputs": [],
   "source": [
    "# sorted(X[:, 0])"
   ]
  },
  {
   "cell_type": "code",
   "execution_count": 18,
   "metadata": {},
   "outputs": [
    {
     "output_type": "stream",
     "name": "stdout",
     "text": [
      "[0, 8871] 4.0\n[4, 8871] 4.0\n[6, 8871] 4.5\n[14, 8871] 2.5\n[16, 8871] 4.5\n[17, 8871] 3.5\n[18, 8871] 4.0\n[20, 8871] 3.5\n[26, 8871] 3.0\n[30, 8871] 5.0\n"
     ]
    }
   ],
   "source": [
    "for x, y in zip(X[:10], Y[:10]):\n",
    "    print(list(x), y)"
   ]
  },
  {
   "cell_type": "code",
   "execution_count": 19,
   "metadata": {},
   "outputs": [
    {
     "output_type": "execute_result",
     "data": {
      "text/plain": [
       "'Toy Story (1995)'"
      ]
     },
     "metadata": {},
     "execution_count": 19
    }
   ],
   "source": [
    "movie_enc.classes_[8871]"
   ]
  },
  {
   "cell_type": "code",
   "execution_count": 20,
   "metadata": {},
   "outputs": [],
   "source": [
    "from sklearn.model_selection import train_test_split\n",
    "\n",
    "X_train, X_test, Y_train, Y_test = train_test_split(X, Y, test_size=0.2, random_state=0)"
   ]
  },
  {
   "cell_type": "code",
   "execution_count": 21,
   "metadata": {},
   "outputs": [],
   "source": [
    "num_users = len(X)\n",
    "num_movies = len(X)"
   ]
  },
  {
   "cell_type": "code",
   "execution_count": 22,
   "metadata": {},
   "outputs": [
    {
     "output_type": "stream",
     "name": "stderr",
     "text": [
      "Using TensorFlow backend.\n"
     ]
    }
   ],
   "source": [
    "from keras.layers import Input, Embedding, Flatten, Dot, Dense, Activation, Dropout\n",
    "from keras.models import Model\n",
    "\n",
    "def build_model():\n",
    "    movie_input = Input(shape=[1], name=\"Book-Input\")\n",
    "    movie_embedding = Embedding(n_movies+1, 15, name=\"Book-Embedding\")(movie_input)\n",
    "    movie_vec = Flatten(name=\"Flatten-Books\")(movie_embedding)\n",
    "\n",
    "    user_input = Input(shape=[1], name=\"User-Input\")\n",
    "    user_embedding = Embedding(n_user+1, 15, name=\"User-Embedding\")(user_input)\n",
    "    user_vec = Flatten(name=\"Flatten-Users\")(user_embedding)\n",
    "    \n",
    "    prod = Dot(name=\"Dot-Product\", axes=1)([user_vec, movie_vec])\n",
    "    \n",
    "    prod = Dense(32)(prod)\n",
    "    prod = Activation('relu')(prod)\n",
    "    prod = Dropout(0.5)(prod)\n",
    "\n",
    "    prod = Dense(16)(prod)\n",
    "    prod = Activation('relu')(prod)\n",
    "    prod = Dropout(0.5)(prod)\n",
    "    prod = Dense(1)(prod)\n",
    "\n",
    "\n",
    "    model = Model([user_input, movie_input], prod)\n",
    "    model.compile('adam', 'mean_squared_error', metrics=['accuracy'])\n",
    "\n",
    "    return model\n",
    "\n",
    "\n",
    "model = build_model()"
   ]
  },
  {
   "cell_type": "code",
   "execution_count": 27,
   "metadata": {},
   "outputs": [
    {
     "output_type": "stream",
     "name": "stdout",
     "text": [
      "Train on 80668 samples, validate on 20168 samples\n",
      "Epoch 1/15\n",
      "80668/80668 [==============================] - 4s 50us/step - loss: 0.3617 - accuracy: 0.4531 - val_loss: 0.9588 - val_accuracy: 0.2940\n",
      "\n",
      "Epoch 00001: val_loss improved from inf to 0.95883, saving model to ./checkpoint\n",
      "Epoch 2/15\n",
      "80668/80668 [==============================] - 4s 53us/step - loss: 0.3533 - accuracy: 0.4562 - val_loss: 0.9869 - val_accuracy: 0.2993\n",
      "\n",
      "Epoch 00002: val_loss did not improve from 0.95883\n",
      "Epoch 3/15\n",
      "80668/80668 [==============================] - 5s 58us/step - loss: 0.3543 - accuracy: 0.4575 - val_loss: 0.9794 - val_accuracy: 0.2917\n",
      "\n",
      "Epoch 00003: val_loss did not improve from 0.95883\n",
      "Epoch 4/15\n",
      "80668/80668 [==============================] - 4s 50us/step - loss: 0.3523 - accuracy: 0.4583 - val_loss: 0.9801 - val_accuracy: 0.2926\n",
      "\n",
      "Epoch 00004: val_loss did not improve from 0.95883\n",
      "Epoch 5/15\n",
      "80668/80668 [==============================] - 4s 54us/step - loss: 0.3488 - accuracy: 0.4585 - val_loss: 0.9711 - val_accuracy: 0.2953\n",
      "\n",
      "Epoch 00005: val_loss did not improve from 0.95883\n",
      "Epoch 6/15\n",
      "80668/80668 [==============================] - 4s 50us/step - loss: 0.3479 - accuracy: 0.4603 - val_loss: 0.9846 - val_accuracy: 0.2965\n",
      "\n",
      "Epoch 00006: val_loss did not improve from 0.95883\n",
      "Epoch 7/15\n",
      "80668/80668 [==============================] - 4s 50us/step - loss: 0.3438 - accuracy: 0.4634 - val_loss: 0.9814 - val_accuracy: 0.2933\n",
      "\n",
      "Epoch 00007: val_loss did not improve from 0.95883\n",
      "Epoch 8/15\n",
      "80668/80668 [==============================] - 4s 47us/step - loss: 0.3419 - accuracy: 0.4615 - val_loss: 0.9771 - val_accuracy: 0.2952\n",
      "\n",
      "Epoch 00008: val_loss did not improve from 0.95883\n",
      "Epoch 9/15\n",
      "80668/80668 [==============================] - 4s 44us/step - loss: 0.3392 - accuracy: 0.4648 - val_loss: 0.9804 - val_accuracy: 0.2930\n",
      "\n",
      "Epoch 00009: val_loss did not improve from 0.95883\n",
      "Epoch 10/15\n",
      "80668/80668 [==============================] - 3s 43us/step - loss: 0.3405 - accuracy: 0.4654 - val_loss: 0.9869 - val_accuracy: 0.2926\n",
      "\n",
      "Epoch 00010: val_loss did not improve from 0.95883\n",
      "Epoch 11/15\n",
      "80668/80668 [==============================] - 3s 42us/step - loss: 0.3390 - accuracy: 0.4652 - val_loss: 0.9905 - val_accuracy: 0.2931\n",
      "\n",
      "Epoch 00011: val_loss did not improve from 0.95883\n",
      "Epoch 12/15\n",
      "80668/80668 [==============================] - 4s 46us/step - loss: 0.3332 - accuracy: 0.4688 - val_loss: 0.9804 - val_accuracy: 0.2892\n",
      "\n",
      "Epoch 00012: val_loss did not improve from 0.95883\n",
      "Epoch 13/15\n",
      "80668/80668 [==============================] - 3s 43us/step - loss: 0.3289 - accuracy: 0.4700 - val_loss: 1.0031 - val_accuracy: 0.2917\n",
      "\n",
      "Epoch 00013: val_loss did not improve from 0.95883\n",
      "Epoch 14/15\n",
      "80668/80668 [==============================] - 4s 44us/step - loss: 0.3294 - accuracy: 0.4724 - val_loss: 1.0032 - val_accuracy: 0.2904\n",
      "\n",
      "Epoch 00014: val_loss did not improve from 0.95883\n",
      "Epoch 15/15\n",
      "80668/80668 [==============================] - 3s 43us/step - loss: 0.3257 - accuracy: 0.4742 - val_loss: 0.9999 - val_accuracy: 0.2934\n",
      "\n",
      "Epoch 00015: val_loss did not improve from 0.95883\n"
     ]
    }
   ],
   "source": [
    "model_checkpoint_callback = tf.keras.callbacks.ModelCheckpoint(\n",
    "    filepath='./checkpoint',\n",
    "    save_weights_only=True,\n",
    "    monitor='val_loss',\n",
    "    mode='min',\n",
    "    save_best_only=True,\n",
    "    verbose=1)\n",
    "\n",
    "history = model.fit([X_train[:, 0], X_train[:, 1]], Y_train, \n",
    "            epochs=15, \n",
    "            verbose=1,\n",
    "            batch_size=64, \n",
    "            validation_data=([X_test[:, 0], X_test[:, 1]], Y_test), \n",
    "            callbacks=[model_checkpoint_callback])"
   ]
  },
  {
   "cell_type": "code",
   "execution_count": null,
   "metadata": {},
   "outputs": [],
   "source": [
    "X_test[:5], Y_test[:5]"
   ]
  },
  {
   "cell_type": "code",
   "execution_count": null,
   "metadata": {},
   "outputs": [],
   "source": [
    "predictions = model.predict([X_test[:5, 0], X_test[:5, 1]])"
   ]
  },
  {
   "cell_type": "code",
   "execution_count": null,
   "metadata": {},
   "outputs": [],
   "source": [
    "print(predictions,\"\\n\\n\", Y_test[:5].values)"
   ]
  },
  {
   "cell_type": "code",
   "execution_count": 26,
   "metadata": {},
   "outputs": [
    {
     "output_type": "execute_result",
     "data": {
      "text/plain": [
       "\"'Til There Was You (1997)\""
      ]
     },
     "metadata": {},
     "execution_count": 26
    }
   ],
   "source": [
    "movie_enc.classes_[4]"
   ]
  },
  {
   "cell_type": "code",
   "execution_count": 27,
   "metadata": {},
   "outputs": [],
   "source": [
    "def predict_ratings(user_id, X_test):\n",
    "    '''\n",
    "    given user id predict all ratings for movies\n",
    "    '''\n",
    "    user_data = ratings_data[ratings_data['userId'] == user_id]\n",
    "    movie_ids, movie_names, predictions, movie_genres = list(), list(), list(), list()\n",
    "    i = 0\n",
    "    for _id, movie_id in X_test:\n",
    "        if user_id == X_test[i][0]:\n",
    "            movie_ids.append(X_test[i, 1])\n",
    "            movie_names.append(movie_enc.classes_[movie_id])\n",
    "            # movie_genres.append(user_data[user_data['movieId'] == movie_id].loc[:, 'genres'].values[0])\n",
    "\n",
    "            pred = model.predict([ np.array([X_test[i, 0]]), np.array([X_test[i, 1]]) ])\n",
    "            predictions.append(pred[0][0])\n",
    "        i += 1\n",
    "    return movie_ids, movie_names, movie_genres, predictions"
   ]
  },
  {
   "cell_type": "code",
   "execution_count": 298,
   "metadata": {},
   "outputs": [
    {
     "output_type": "execute_result",
     "data": {
      "text/plain": [
       "array([[ 413, 8216],\n",
       "       [ 297, 8032],\n",
       "       [ 543, 1727],\n",
       "       ...,\n",
       "       [ 437, 5512],\n",
       "       [ 593, 2770],\n",
       "       [ 369, 9119]])"
      ]
     },
     "metadata": {},
     "execution_count": 298
    }
   ],
   "source": [
    "X_test"
   ]
  },
  {
   "cell_type": "code",
   "execution_count": 296,
   "metadata": {},
   "outputs": [
    {
     "output_type": "execute_result",
     "data": {
      "text/plain": [
       "       userId  movieId  rating   timestamp  \\\n",
       "2035      413      296     5.0  1484439565   \n",
       "3119      413      457     5.0  1484439876   \n",
       "3711      413      527     5.0  1484439759   \n",
       "4496      413      593     5.0  1484439762   \n",
       "5293      413      736     5.0  1484439991   \n",
       "7272      413     1198     1.0  1484439850   \n",
       "7841      413     1213     4.5  1484439561   \n",
       "10902     413     2028     5.0  1484439998   \n",
       "11947     413     2329     5.0  1484439570   \n",
       "12048     413     2353     5.0  1484440019   \n",
       "12464     413     2502     5.0  1484439642   \n",
       "13984     413     2858     1.0  1484439820   \n",
       "14463     413     2959     5.0  1484439761   \n",
       "15117     413     3147     5.0  1484439835   \n",
       "16510     413      318     5.0  1484439483   \n",
       "16702     413     1704     5.0  1484439833   \n",
       "17296     413    68157     5.0  1484439867   \n",
       "17363     413    71535     5.0  1484439903   \n",
       "17825     413    99114     4.5  1484439606   \n",
       "18630     413     2424     3.5  1484440080   \n",
       "23763     413     3408     4.0  1484440063   \n",
       "24696     413     4239     5.0  1484439923   \n",
       "27657     413       16     5.0  1484440002   \n",
       "34103     413     1246     1.0  1484439859   \n",
       "35041     413     3916     5.0  1484439871   \n",
       "36058     413     4993     5.0  1484439852   \n",
       "38543     413     8665     5.0  1484439902   \n",
       "41379     413     7293     5.0  1484440084   \n",
       "41955     413    51662     5.0  1484440066   \n",
       "42047     413    54286     4.5  1484439679   \n",
       "44148     413     2002     5.0  1484440118   \n",
       "44520     413     2694     5.0  1484440071   \n",
       "44813     413     3624     5.0  1484439965   \n",
       "44928     413     3753     5.0  1484439911   \n",
       "45493     413      858     5.0  1484439756   \n",
       "46395     413     4022     4.5  1484440209   \n",
       "46772     413     8644     2.5  1484439953   \n",
       "49093     413     1207     5.0  1484439771   \n",
       "50612     413     1221     4.5  1484439559   \n",
       "52481     413     2706     3.0  1484440050   \n",
       "53060     413     4262     5.0  1484439749   \n",
       "53152     413     4816     0.5  1484440324   \n",
       "53353     413     5574     5.0  1484440098   \n",
       "53667     413     6373     5.0  1484440101   \n",
       "53729     413     6378     5.0  1484439929   \n",
       "55963     413    64957     5.0  1484440130   \n",
       "56110     413    69122     5.0  1484440007   \n",
       "64905     413     3948     4.5  1484439512   \n",
       "65319     413     4299     5.0  1484439931   \n",
       "70734     413    35836     5.0  1484440121   \n",
       "73561     413    51935     5.0  1484439959   \n",
       "74130     413     1792     5.0  1484440151   \n",
       "75674     413     4890     5.0  1484440124   \n",
       "76115     413   128360     3.0  1484440311   \n",
       "77983     413    53993     0.5  1484440320   \n",
       "78847     413    97304     5.0  1484439652   \n",
       "\n",
       "                                                   title  \\\n",
       "2035                                 Pulp Fiction (1994)   \n",
       "3119                                Fugitive, The (1993)   \n",
       "3711                             Schindler's List (1993)   \n",
       "4496                    Silence of the Lambs, The (1991)   \n",
       "5293                                      Twister (1996)   \n",
       "7272   Raiders of the Lost Ark (Indiana Jones and the...   \n",
       "7841                                   Goodfellas (1990)   \n",
       "10902                         Saving Private Ryan (1998)   \n",
       "11947                          American History X (1998)   \n",
       "12048                          Enemy of the State (1998)   \n",
       "12464                                Office Space (1999)   \n",
       "13984                             American Beauty (1999)   \n",
       "14463                                  Fight Club (1999)   \n",
       "15117                             Green Mile, The (1999)   \n",
       "16510                   Shawshank Redemption, The (1994)   \n",
       "16702                           Good Will Hunting (1997)   \n",
       "17296                        Inglourious Basterds (2009)   \n",
       "17363                                  Zombieland (2009)   \n",
       "17825                            Django Unchained (2012)   \n",
       "18630                             You've Got Mail (1998)   \n",
       "23763                             Erin Brockovich (2000)   \n",
       "24696                                        Blow (2001)   \n",
       "27657                                      Casino (1995)   \n",
       "34103                          Dead Poets Society (1989)   \n",
       "35041                         Remember the Titans (2000)   \n",
       "36058  Lord of the Rings: The Fellowship of the Ring,...   \n",
       "38543                       Bourne Supremacy, The (2004)   \n",
       "41379                              50 First Dates (2004)   \n",
       "41955                                         300 (2007)   \n",
       "42047                       Bourne Ultimatum, The (2007)   \n",
       "44148                             Lethal Weapon 3 (1992)   \n",
       "44520                                   Big Daddy (1999)   \n",
       "44813                               Shanghai Noon (2000)   \n",
       "44928                                Patriot, The (2000)   \n",
       "45493                              Godfather, The (1972)   \n",
       "46395                                   Cast Away (2000)   \n",
       "46772                                    I, Robot (2004)   \n",
       "49093                       To Kill a Mockingbird (1962)   \n",
       "50612                     Godfather: Part II, The (1974)   \n",
       "52481                                American Pie (1999)   \n",
       "53060                                    Scarface (1983)   \n",
       "53152                                   Zoolander (2001)   \n",
       "53353                            Transporter, The (2002)   \n",
       "53667                              Bruce Almighty (2003)   \n",
       "53729                            Italian Job, The (2003)   \n",
       "55963        Curious Case of Benjamin Button, The (2008)   \n",
       "56110                               Hangover, The (2009)   \n",
       "64905                            Meet the Parents (2000)   \n",
       "65319                            Knight's Tale, A (2001)   \n",
       "70734                     40-Year-Old Virgin, The (2005)   \n",
       "73561                                     Shooter (2007)   \n",
       "74130                               U.S. Marshals (1998)   \n",
       "75674                                 Shallow Hal (2001)   \n",
       "76115                           The Hateful Eight (2015)   \n",
       "77983                               Evan Almighty (2007)   \n",
       "78847                                        Argo (2012)   \n",
       "\n",
       "                                  genres  \n",
       "2035         Comedy|Crime|Drama|Thriller  \n",
       "3119                            Thriller  \n",
       "3711                           Drama|War  \n",
       "4496               Crime|Horror|Thriller  \n",
       "5293   Action|Adventure|Romance|Thriller  \n",
       "7272                    Action|Adventure  \n",
       "7841                         Crime|Drama  \n",
       "10902                   Action|Drama|War  \n",
       "11947                        Crime|Drama  \n",
       "12048                    Action|Thriller  \n",
       "12464                       Comedy|Crime  \n",
       "13984                      Drama|Romance  \n",
       "14463        Action|Crime|Drama|Thriller  \n",
       "15117                        Crime|Drama  \n",
       "16510                        Crime|Drama  \n",
       "16702                      Drama|Romance  \n",
       "17296                   Action|Drama|War  \n",
       "17363               Action|Comedy|Horror  \n",
       "17825               Action|Drama|Western  \n",
       "18630                     Comedy|Romance  \n",
       "23763                              Drama  \n",
       "24696                        Crime|Drama  \n",
       "27657                        Crime|Drama  \n",
       "34103                              Drama  \n",
       "35041                              Drama  \n",
       "36058                  Adventure|Fantasy  \n",
       "38543              Action|Crime|Thriller  \n",
       "41379                     Comedy|Romance  \n",
       "41955            Action|Fantasy|War|IMAX  \n",
       "42047              Action|Crime|Thriller  \n",
       "44148          Action|Comedy|Crime|Drama  \n",
       "44520                             Comedy  \n",
       "44813    Action|Adventure|Comedy|Western  \n",
       "44928                   Action|Drama|War  \n",
       "45493                        Crime|Drama  \n",
       "46395                              Drama  \n",
       "46772   Action|Adventure|Sci-Fi|Thriller  \n",
       "49093                              Drama  \n",
       "50612                        Crime|Drama  \n",
       "52481                     Comedy|Romance  \n",
       "53060                 Action|Crime|Drama  \n",
       "53152                             Comedy  \n",
       "53353                       Action|Crime  \n",
       "53667       Comedy|Drama|Fantasy|Romance  \n",
       "53729                       Action|Crime  \n",
       "55963      Drama|Fantasy|Mystery|Romance  \n",
       "56110                       Comedy|Crime  \n",
       "64905                             Comedy  \n",
       "65319              Action|Comedy|Romance  \n",
       "70734                     Comedy|Romance  \n",
       "73561              Action|Drama|Thriller  \n",
       "74130              Action|Crime|Thriller  \n",
       "75674             Comedy|Fantasy|Romance  \n",
       "76115                            Western  \n",
       "77983                     Comedy|Fantasy  \n",
       "78847                     Drama|Thriller  "
      ],
      "text/html": "<div>\n<style scoped>\n    .dataframe tbody tr th:only-of-type {\n        vertical-align: middle;\n    }\n\n    .dataframe tbody tr th {\n        vertical-align: top;\n    }\n\n    .dataframe thead th {\n        text-align: right;\n    }\n</style>\n<table border=\"1\" class=\"dataframe\">\n  <thead>\n    <tr style=\"text-align: right;\">\n      <th></th>\n      <th>userId</th>\n      <th>movieId</th>\n      <th>rating</th>\n      <th>timestamp</th>\n      <th>title</th>\n      <th>genres</th>\n    </tr>\n  </thead>\n  <tbody>\n    <tr>\n      <th>2035</th>\n      <td>413</td>\n      <td>296</td>\n      <td>5.0</td>\n      <td>1484439565</td>\n      <td>Pulp Fiction (1994)</td>\n      <td>Comedy|Crime|Drama|Thriller</td>\n    </tr>\n    <tr>\n      <th>3119</th>\n      <td>413</td>\n      <td>457</td>\n      <td>5.0</td>\n      <td>1484439876</td>\n      <td>Fugitive, The (1993)</td>\n      <td>Thriller</td>\n    </tr>\n    <tr>\n      <th>3711</th>\n      <td>413</td>\n      <td>527</td>\n      <td>5.0</td>\n      <td>1484439759</td>\n      <td>Schindler's List (1993)</td>\n      <td>Drama|War</td>\n    </tr>\n    <tr>\n      <th>4496</th>\n      <td>413</td>\n      <td>593</td>\n      <td>5.0</td>\n      <td>1484439762</td>\n      <td>Silence of the Lambs, The (1991)</td>\n      <td>Crime|Horror|Thriller</td>\n    </tr>\n    <tr>\n      <th>5293</th>\n      <td>413</td>\n      <td>736</td>\n      <td>5.0</td>\n      <td>1484439991</td>\n      <td>Twister (1996)</td>\n      <td>Action|Adventure|Romance|Thriller</td>\n    </tr>\n    <tr>\n      <th>7272</th>\n      <td>413</td>\n      <td>1198</td>\n      <td>1.0</td>\n      <td>1484439850</td>\n      <td>Raiders of the Lost Ark (Indiana Jones and the...</td>\n      <td>Action|Adventure</td>\n    </tr>\n    <tr>\n      <th>7841</th>\n      <td>413</td>\n      <td>1213</td>\n      <td>4.5</td>\n      <td>1484439561</td>\n      <td>Goodfellas (1990)</td>\n      <td>Crime|Drama</td>\n    </tr>\n    <tr>\n      <th>10902</th>\n      <td>413</td>\n      <td>2028</td>\n      <td>5.0</td>\n      <td>1484439998</td>\n      <td>Saving Private Ryan (1998)</td>\n      <td>Action|Drama|War</td>\n    </tr>\n    <tr>\n      <th>11947</th>\n      <td>413</td>\n      <td>2329</td>\n      <td>5.0</td>\n      <td>1484439570</td>\n      <td>American History X (1998)</td>\n      <td>Crime|Drama</td>\n    </tr>\n    <tr>\n      <th>12048</th>\n      <td>413</td>\n      <td>2353</td>\n      <td>5.0</td>\n      <td>1484440019</td>\n      <td>Enemy of the State (1998)</td>\n      <td>Action|Thriller</td>\n    </tr>\n    <tr>\n      <th>12464</th>\n      <td>413</td>\n      <td>2502</td>\n      <td>5.0</td>\n      <td>1484439642</td>\n      <td>Office Space (1999)</td>\n      <td>Comedy|Crime</td>\n    </tr>\n    <tr>\n      <th>13984</th>\n      <td>413</td>\n      <td>2858</td>\n      <td>1.0</td>\n      <td>1484439820</td>\n      <td>American Beauty (1999)</td>\n      <td>Drama|Romance</td>\n    </tr>\n    <tr>\n      <th>14463</th>\n      <td>413</td>\n      <td>2959</td>\n      <td>5.0</td>\n      <td>1484439761</td>\n      <td>Fight Club (1999)</td>\n      <td>Action|Crime|Drama|Thriller</td>\n    </tr>\n    <tr>\n      <th>15117</th>\n      <td>413</td>\n      <td>3147</td>\n      <td>5.0</td>\n      <td>1484439835</td>\n      <td>Green Mile, The (1999)</td>\n      <td>Crime|Drama</td>\n    </tr>\n    <tr>\n      <th>16510</th>\n      <td>413</td>\n      <td>318</td>\n      <td>5.0</td>\n      <td>1484439483</td>\n      <td>Shawshank Redemption, The (1994)</td>\n      <td>Crime|Drama</td>\n    </tr>\n    <tr>\n      <th>16702</th>\n      <td>413</td>\n      <td>1704</td>\n      <td>5.0</td>\n      <td>1484439833</td>\n      <td>Good Will Hunting (1997)</td>\n      <td>Drama|Romance</td>\n    </tr>\n    <tr>\n      <th>17296</th>\n      <td>413</td>\n      <td>68157</td>\n      <td>5.0</td>\n      <td>1484439867</td>\n      <td>Inglourious Basterds (2009)</td>\n      <td>Action|Drama|War</td>\n    </tr>\n    <tr>\n      <th>17363</th>\n      <td>413</td>\n      <td>71535</td>\n      <td>5.0</td>\n      <td>1484439903</td>\n      <td>Zombieland (2009)</td>\n      <td>Action|Comedy|Horror</td>\n    </tr>\n    <tr>\n      <th>17825</th>\n      <td>413</td>\n      <td>99114</td>\n      <td>4.5</td>\n      <td>1484439606</td>\n      <td>Django Unchained (2012)</td>\n      <td>Action|Drama|Western</td>\n    </tr>\n    <tr>\n      <th>18630</th>\n      <td>413</td>\n      <td>2424</td>\n      <td>3.5</td>\n      <td>1484440080</td>\n      <td>You've Got Mail (1998)</td>\n      <td>Comedy|Romance</td>\n    </tr>\n    <tr>\n      <th>23763</th>\n      <td>413</td>\n      <td>3408</td>\n      <td>4.0</td>\n      <td>1484440063</td>\n      <td>Erin Brockovich (2000)</td>\n      <td>Drama</td>\n    </tr>\n    <tr>\n      <th>24696</th>\n      <td>413</td>\n      <td>4239</td>\n      <td>5.0</td>\n      <td>1484439923</td>\n      <td>Blow (2001)</td>\n      <td>Crime|Drama</td>\n    </tr>\n    <tr>\n      <th>27657</th>\n      <td>413</td>\n      <td>16</td>\n      <td>5.0</td>\n      <td>1484440002</td>\n      <td>Casino (1995)</td>\n      <td>Crime|Drama</td>\n    </tr>\n    <tr>\n      <th>34103</th>\n      <td>413</td>\n      <td>1246</td>\n      <td>1.0</td>\n      <td>1484439859</td>\n      <td>Dead Poets Society (1989)</td>\n      <td>Drama</td>\n    </tr>\n    <tr>\n      <th>35041</th>\n      <td>413</td>\n      <td>3916</td>\n      <td>5.0</td>\n      <td>1484439871</td>\n      <td>Remember the Titans (2000)</td>\n      <td>Drama</td>\n    </tr>\n    <tr>\n      <th>36058</th>\n      <td>413</td>\n      <td>4993</td>\n      <td>5.0</td>\n      <td>1484439852</td>\n      <td>Lord of the Rings: The Fellowship of the Ring,...</td>\n      <td>Adventure|Fantasy</td>\n    </tr>\n    <tr>\n      <th>38543</th>\n      <td>413</td>\n      <td>8665</td>\n      <td>5.0</td>\n      <td>1484439902</td>\n      <td>Bourne Supremacy, The (2004)</td>\n      <td>Action|Crime|Thriller</td>\n    </tr>\n    <tr>\n      <th>41379</th>\n      <td>413</td>\n      <td>7293</td>\n      <td>5.0</td>\n      <td>1484440084</td>\n      <td>50 First Dates (2004)</td>\n      <td>Comedy|Romance</td>\n    </tr>\n    <tr>\n      <th>41955</th>\n      <td>413</td>\n      <td>51662</td>\n      <td>5.0</td>\n      <td>1484440066</td>\n      <td>300 (2007)</td>\n      <td>Action|Fantasy|War|IMAX</td>\n    </tr>\n    <tr>\n      <th>42047</th>\n      <td>413</td>\n      <td>54286</td>\n      <td>4.5</td>\n      <td>1484439679</td>\n      <td>Bourne Ultimatum, The (2007)</td>\n      <td>Action|Crime|Thriller</td>\n    </tr>\n    <tr>\n      <th>44148</th>\n      <td>413</td>\n      <td>2002</td>\n      <td>5.0</td>\n      <td>1484440118</td>\n      <td>Lethal Weapon 3 (1992)</td>\n      <td>Action|Comedy|Crime|Drama</td>\n    </tr>\n    <tr>\n      <th>44520</th>\n      <td>413</td>\n      <td>2694</td>\n      <td>5.0</td>\n      <td>1484440071</td>\n      <td>Big Daddy (1999)</td>\n      <td>Comedy</td>\n    </tr>\n    <tr>\n      <th>44813</th>\n      <td>413</td>\n      <td>3624</td>\n      <td>5.0</td>\n      <td>1484439965</td>\n      <td>Shanghai Noon (2000)</td>\n      <td>Action|Adventure|Comedy|Western</td>\n    </tr>\n    <tr>\n      <th>44928</th>\n      <td>413</td>\n      <td>3753</td>\n      <td>5.0</td>\n      <td>1484439911</td>\n      <td>Patriot, The (2000)</td>\n      <td>Action|Drama|War</td>\n    </tr>\n    <tr>\n      <th>45493</th>\n      <td>413</td>\n      <td>858</td>\n      <td>5.0</td>\n      <td>1484439756</td>\n      <td>Godfather, The (1972)</td>\n      <td>Crime|Drama</td>\n    </tr>\n    <tr>\n      <th>46395</th>\n      <td>413</td>\n      <td>4022</td>\n      <td>4.5</td>\n      <td>1484440209</td>\n      <td>Cast Away (2000)</td>\n      <td>Drama</td>\n    </tr>\n    <tr>\n      <th>46772</th>\n      <td>413</td>\n      <td>8644</td>\n      <td>2.5</td>\n      <td>1484439953</td>\n      <td>I, Robot (2004)</td>\n      <td>Action|Adventure|Sci-Fi|Thriller</td>\n    </tr>\n    <tr>\n      <th>49093</th>\n      <td>413</td>\n      <td>1207</td>\n      <td>5.0</td>\n      <td>1484439771</td>\n      <td>To Kill a Mockingbird (1962)</td>\n      <td>Drama</td>\n    </tr>\n    <tr>\n      <th>50612</th>\n      <td>413</td>\n      <td>1221</td>\n      <td>4.5</td>\n      <td>1484439559</td>\n      <td>Godfather: Part II, The (1974)</td>\n      <td>Crime|Drama</td>\n    </tr>\n    <tr>\n      <th>52481</th>\n      <td>413</td>\n      <td>2706</td>\n      <td>3.0</td>\n      <td>1484440050</td>\n      <td>American Pie (1999)</td>\n      <td>Comedy|Romance</td>\n    </tr>\n    <tr>\n      <th>53060</th>\n      <td>413</td>\n      <td>4262</td>\n      <td>5.0</td>\n      <td>1484439749</td>\n      <td>Scarface (1983)</td>\n      <td>Action|Crime|Drama</td>\n    </tr>\n    <tr>\n      <th>53152</th>\n      <td>413</td>\n      <td>4816</td>\n      <td>0.5</td>\n      <td>1484440324</td>\n      <td>Zoolander (2001)</td>\n      <td>Comedy</td>\n    </tr>\n    <tr>\n      <th>53353</th>\n      <td>413</td>\n      <td>5574</td>\n      <td>5.0</td>\n      <td>1484440098</td>\n      <td>Transporter, The (2002)</td>\n      <td>Action|Crime</td>\n    </tr>\n    <tr>\n      <th>53667</th>\n      <td>413</td>\n      <td>6373</td>\n      <td>5.0</td>\n      <td>1484440101</td>\n      <td>Bruce Almighty (2003)</td>\n      <td>Comedy|Drama|Fantasy|Romance</td>\n    </tr>\n    <tr>\n      <th>53729</th>\n      <td>413</td>\n      <td>6378</td>\n      <td>5.0</td>\n      <td>1484439929</td>\n      <td>Italian Job, The (2003)</td>\n      <td>Action|Crime</td>\n    </tr>\n    <tr>\n      <th>55963</th>\n      <td>413</td>\n      <td>64957</td>\n      <td>5.0</td>\n      <td>1484440130</td>\n      <td>Curious Case of Benjamin Button, The (2008)</td>\n      <td>Drama|Fantasy|Mystery|Romance</td>\n    </tr>\n    <tr>\n      <th>56110</th>\n      <td>413</td>\n      <td>69122</td>\n      <td>5.0</td>\n      <td>1484440007</td>\n      <td>Hangover, The (2009)</td>\n      <td>Comedy|Crime</td>\n    </tr>\n    <tr>\n      <th>64905</th>\n      <td>413</td>\n      <td>3948</td>\n      <td>4.5</td>\n      <td>1484439512</td>\n      <td>Meet the Parents (2000)</td>\n      <td>Comedy</td>\n    </tr>\n    <tr>\n      <th>65319</th>\n      <td>413</td>\n      <td>4299</td>\n      <td>5.0</td>\n      <td>1484439931</td>\n      <td>Knight's Tale, A (2001)</td>\n      <td>Action|Comedy|Romance</td>\n    </tr>\n    <tr>\n      <th>70734</th>\n      <td>413</td>\n      <td>35836</td>\n      <td>5.0</td>\n      <td>1484440121</td>\n      <td>40-Year-Old Virgin, The (2005)</td>\n      <td>Comedy|Romance</td>\n    </tr>\n    <tr>\n      <th>73561</th>\n      <td>413</td>\n      <td>51935</td>\n      <td>5.0</td>\n      <td>1484439959</td>\n      <td>Shooter (2007)</td>\n      <td>Action|Drama|Thriller</td>\n    </tr>\n    <tr>\n      <th>74130</th>\n      <td>413</td>\n      <td>1792</td>\n      <td>5.0</td>\n      <td>1484440151</td>\n      <td>U.S. Marshals (1998)</td>\n      <td>Action|Crime|Thriller</td>\n    </tr>\n    <tr>\n      <th>75674</th>\n      <td>413</td>\n      <td>4890</td>\n      <td>5.0</td>\n      <td>1484440124</td>\n      <td>Shallow Hal (2001)</td>\n      <td>Comedy|Fantasy|Romance</td>\n    </tr>\n    <tr>\n      <th>76115</th>\n      <td>413</td>\n      <td>128360</td>\n      <td>3.0</td>\n      <td>1484440311</td>\n      <td>The Hateful Eight (2015)</td>\n      <td>Western</td>\n    </tr>\n    <tr>\n      <th>77983</th>\n      <td>413</td>\n      <td>53993</td>\n      <td>0.5</td>\n      <td>1484440320</td>\n      <td>Evan Almighty (2007)</td>\n      <td>Comedy|Fantasy</td>\n    </tr>\n    <tr>\n      <th>78847</th>\n      <td>413</td>\n      <td>97304</td>\n      <td>5.0</td>\n      <td>1484439652</td>\n      <td>Argo (2012)</td>\n      <td>Drama|Thriller</td>\n    </tr>\n  </tbody>\n</table>\n</div>"
     },
     "metadata": {},
     "execution_count": 296
    }
   ],
   "source": [
    "ratings_data[ratings_data['userId'] == 413]"
   ]
  },
  {
   "cell_type": "code",
   "execution_count": 288,
   "metadata": {},
   "outputs": [
    {
     "output_type": "stream",
     "name": "stdout",
     "text": [
      "2791\n"
     ]
    },
    {
     "output_type": "error",
     "ename": "IndexError",
     "evalue": "index 0 is out of bounds for axis 0 with size 0",
     "traceback": [
      "\u001b[0;31m---------------------------------------------------------------------------\u001b[0m",
      "\u001b[0;31mIndexError\u001b[0m                                Traceback (most recent call last)",
      "\u001b[0;32m<ipython-input-288-8bae44b6def3>\u001b[0m in \u001b[0;36m<module>\u001b[0;34m\u001b[0m\n\u001b[1;32m      1\u001b[0m \u001b[0muser_id\u001b[0m \u001b[0;34m=\u001b[0m \u001b[0;36m40\u001b[0m\u001b[0;34m\u001b[0m\u001b[0;34m\u001b[0m\u001b[0m\n\u001b[0;32m----> 2\u001b[0;31m \u001b[0mmovie_ids\u001b[0m\u001b[0;34m,\u001b[0m \u001b[0mmovie_names\u001b[0m\u001b[0;34m,\u001b[0m \u001b[0mmovie_genres\u001b[0m\u001b[0;34m,\u001b[0m \u001b[0mpredictions\u001b[0m \u001b[0;34m=\u001b[0m \u001b[0mpredict_ratings\u001b[0m\u001b[0;34m(\u001b[0m\u001b[0muser_id\u001b[0m\u001b[0;34m,\u001b[0m \u001b[0mX_test\u001b[0m\u001b[0;34m)\u001b[0m\u001b[0;34m\u001b[0m\u001b[0;34m\u001b[0m\u001b[0m\n\u001b[0m",
      "\u001b[0;32m<ipython-input-285-353cd92bcf2e>\u001b[0m in \u001b[0;36mpredict_ratings\u001b[0;34m(user_id, X_test)\u001b[0m\n\u001b[1;32m     12\u001b[0m             \u001b[0mmovie_names\u001b[0m\u001b[0;34m.\u001b[0m\u001b[0mappend\u001b[0m\u001b[0;34m(\u001b[0m\u001b[0mmovie_enc\u001b[0m\u001b[0;34m.\u001b[0m\u001b[0mclasses_\u001b[0m\u001b[0;34m[\u001b[0m\u001b[0mmovie_id\u001b[0m\u001b[0;34m]\u001b[0m\u001b[0;34m)\u001b[0m\u001b[0;34m\u001b[0m\u001b[0;34m\u001b[0m\u001b[0m\n\u001b[1;32m     13\u001b[0m             \u001b[0mprint\u001b[0m\u001b[0;34m(\u001b[0m\u001b[0mmovie_id\u001b[0m\u001b[0;34m)\u001b[0m\u001b[0;34m\u001b[0m\u001b[0;34m\u001b[0m\u001b[0m\n\u001b[0;32m---> 14\u001b[0;31m             \u001b[0mmovie_genres\u001b[0m\u001b[0;34m.\u001b[0m\u001b[0mappend\u001b[0m\u001b[0;34m(\u001b[0m\u001b[0muser_data\u001b[0m\u001b[0;34m[\u001b[0m\u001b[0muser_data\u001b[0m\u001b[0;34m[\u001b[0m\u001b[0;34m'movieId'\u001b[0m\u001b[0;34m]\u001b[0m \u001b[0;34m==\u001b[0m \u001b[0mmovie_id\u001b[0m\u001b[0;34m]\u001b[0m\u001b[0;34m.\u001b[0m\u001b[0mloc\u001b[0m\u001b[0;34m[\u001b[0m\u001b[0;34m:\u001b[0m\u001b[0;34m,\u001b[0m \u001b[0;34m'genres'\u001b[0m\u001b[0;34m]\u001b[0m\u001b[0;34m.\u001b[0m\u001b[0mvalues\u001b[0m\u001b[0;34m[\u001b[0m\u001b[0;36m0\u001b[0m\u001b[0;34m]\u001b[0m\u001b[0;34m)\u001b[0m\u001b[0;34m\u001b[0m\u001b[0;34m\u001b[0m\u001b[0m\n\u001b[0m\u001b[1;32m     15\u001b[0m \u001b[0;34m\u001b[0m\u001b[0m\n\u001b[1;32m     16\u001b[0m             \u001b[0mpred\u001b[0m \u001b[0;34m=\u001b[0m \u001b[0mmodel\u001b[0m\u001b[0;34m.\u001b[0m\u001b[0mpredict\u001b[0m\u001b[0;34m(\u001b[0m\u001b[0;34m[\u001b[0m \u001b[0mnp\u001b[0m\u001b[0;34m.\u001b[0m\u001b[0marray\u001b[0m\u001b[0;34m(\u001b[0m\u001b[0;34m[\u001b[0m\u001b[0mX_test\u001b[0m\u001b[0;34m[\u001b[0m\u001b[0mi\u001b[0m\u001b[0;34m,\u001b[0m \u001b[0;36m0\u001b[0m\u001b[0;34m]\u001b[0m\u001b[0;34m]\u001b[0m\u001b[0;34m)\u001b[0m\u001b[0;34m,\u001b[0m \u001b[0mnp\u001b[0m\u001b[0;34m.\u001b[0m\u001b[0marray\u001b[0m\u001b[0;34m(\u001b[0m\u001b[0;34m[\u001b[0m\u001b[0mX_test\u001b[0m\u001b[0;34m[\u001b[0m\u001b[0mi\u001b[0m\u001b[0;34m,\u001b[0m \u001b[0;36m1\u001b[0m\u001b[0;34m]\u001b[0m\u001b[0;34m]\u001b[0m\u001b[0;34m)\u001b[0m \u001b[0;34m]\u001b[0m\u001b[0;34m)\u001b[0m\u001b[0;34m\u001b[0m\u001b[0;34m\u001b[0m\u001b[0m\n",
      "\u001b[0;31mIndexError\u001b[0m: index 0 is out of bounds for axis 0 with size 0"
     ]
    }
   ],
   "source": [
    "user_id = 40\n",
    "movie_ids, movie_names, movie_genres, predictions = predict_ratings(user_id, X_test)"
   ]
  },
  {
   "cell_type": "code",
   "execution_count": 215,
   "metadata": {},
   "outputs": [],
   "source": [
    "dictionary = {\"user_id\": [user_id]*len(movie_ids),\n",
    "              \"movie_id\": movie_ids,\n",
    "              \"movie_name\":movie_names,\n",
    "              \"ratings\":predictions \n",
    "              }"
   ]
  },
  {
   "cell_type": "code",
   "execution_count": 216,
   "metadata": {},
   "outputs": [
    {
     "output_type": "execute_result",
     "data": {
      "text/plain": [
       "   user_id movie_id                                    movie_name  ratings\n",
       "8       40     5484                           Mary and Max (2009)  4.75105\n",
       "36      40     4413                           Intouchables (2011)  4.67731\n",
       "31      40     7073                    Requiem for a Dream (2000)  4.42205\n",
       "12      40     6865                           Pulp Fiction (1994)  4.37195\n",
       "0       40     2791  Eternal Sunshine of the Spotless Mind (2004)  4.32208\n",
       "38      40     9407                               Whiplash (2014)  4.27964\n",
       "27      40      563                         Apocalypse Now (1979)  4.25545\n",
       "34      40     9442                  Whole Nine Yards, The (2000)  4.24181\n",
       "11      40      405                        American Beauty (1999)  4.24065\n",
       "4       40     2940                                  Fargo (1996)   4.2274\n",
       "28      40     5840                              Mr. Deeds (2002)  4.17512\n",
       "15      40     6856                                 Psycho (1960)  4.08983\n",
       "5       40     6608                           Pianist, The (2002)  4.08198\n",
       "29      40     8328                            Taxi Driver (1976)   4.0762\n",
       "32      40     2874                         Eyes Wide Shut (1999)  4.02458\n",
       "25      40     4028                        Horrible Bosses (2011)  4.00758\n",
       "26      40      916                              Bedazzled (2000)  3.98856\n",
       "35      40     9381                When Harry Met Sally... (1989)  3.98356\n",
       "22      40      880                             Beach, The (2000)  3.98076\n",
       "13      40     6415                        P.S. I Love You (2007)  3.97331\n",
       "3       40     7079                         Reservoir Dogs (1992)  3.97245\n",
       "33      40     5370                             Maleficent (2014)  3.89837\n",
       "14      40     5563                       Meet the Fockers (2004)  3.88707\n",
       "23      40     4360                   Inglourious Basterds (2009)  3.87876\n",
       "16      40     7542                       Sex and the City (2008)  3.84409\n",
       "7       40      193                            About a Boy (2002)  3.52212\n",
       "30      40     5503                            Match Point (2005)  3.49434\n",
       "39      40     2591                                  Drive (2011)  3.48478\n",
       "40      40      376                       Along Came Polly (2004)  3.24403\n",
       "10      40     4136                     Hunt, The (Jagten) (2012)  3.16037\n",
       "9       40     4454                            Island, The (2005)  3.16011\n",
       "17      40     7292              Run Lola Run (Lola rennt) (1998)  3.13546\n",
       "21      40     3011                             Fight Club (1999)  3.00039\n",
       "1       40     6114                           Nightcrawler (2014)  2.96639\n",
       "20      40     8885                          Trainspotting (1996)  2.93601\n",
       "18      40     3010                   Fifty Shades of Grey (2015)  2.49096\n",
       "37      40     6892              Pursuit of Happyness, The (2006)  2.40571\n",
       "24      40     3033                           Finding Nemo (2003)  2.34878\n",
       "6       40     8553                The Man from U.N.C.L.E. (2015)  2.34283\n",
       "19      40     3282                        Full Monty, The (1997)  2.20808\n",
       "2       40     5465                            Marley & Me (2008)  2.12661"
      ],
      "text/html": "<div>\n<style scoped>\n    .dataframe tbody tr th:only-of-type {\n        vertical-align: middle;\n    }\n\n    .dataframe tbody tr th {\n        vertical-align: top;\n    }\n\n    .dataframe thead th {\n        text-align: right;\n    }\n</style>\n<table border=\"1\" class=\"dataframe\">\n  <thead>\n    <tr style=\"text-align: right;\">\n      <th></th>\n      <th>user_id</th>\n      <th>movie_id</th>\n      <th>movie_name</th>\n      <th>ratings</th>\n    </tr>\n  </thead>\n  <tbody>\n    <tr>\n      <th>8</th>\n      <td>40</td>\n      <td>5484</td>\n      <td>Mary and Max (2009)</td>\n      <td>4.75105</td>\n    </tr>\n    <tr>\n      <th>36</th>\n      <td>40</td>\n      <td>4413</td>\n      <td>Intouchables (2011)</td>\n      <td>4.67731</td>\n    </tr>\n    <tr>\n      <th>31</th>\n      <td>40</td>\n      <td>7073</td>\n      <td>Requiem for a Dream (2000)</td>\n      <td>4.42205</td>\n    </tr>\n    <tr>\n      <th>12</th>\n      <td>40</td>\n      <td>6865</td>\n      <td>Pulp Fiction (1994)</td>\n      <td>4.37195</td>\n    </tr>\n    <tr>\n      <th>0</th>\n      <td>40</td>\n      <td>2791</td>\n      <td>Eternal Sunshine of the Spotless Mind (2004)</td>\n      <td>4.32208</td>\n    </tr>\n    <tr>\n      <th>38</th>\n      <td>40</td>\n      <td>9407</td>\n      <td>Whiplash (2014)</td>\n      <td>4.27964</td>\n    </tr>\n    <tr>\n      <th>27</th>\n      <td>40</td>\n      <td>563</td>\n      <td>Apocalypse Now (1979)</td>\n      <td>4.25545</td>\n    </tr>\n    <tr>\n      <th>34</th>\n      <td>40</td>\n      <td>9442</td>\n      <td>Whole Nine Yards, The (2000)</td>\n      <td>4.24181</td>\n    </tr>\n    <tr>\n      <th>11</th>\n      <td>40</td>\n      <td>405</td>\n      <td>American Beauty (1999)</td>\n      <td>4.24065</td>\n    </tr>\n    <tr>\n      <th>4</th>\n      <td>40</td>\n      <td>2940</td>\n      <td>Fargo (1996)</td>\n      <td>4.2274</td>\n    </tr>\n    <tr>\n      <th>28</th>\n      <td>40</td>\n      <td>5840</td>\n      <td>Mr. Deeds (2002)</td>\n      <td>4.17512</td>\n    </tr>\n    <tr>\n      <th>15</th>\n      <td>40</td>\n      <td>6856</td>\n      <td>Psycho (1960)</td>\n      <td>4.08983</td>\n    </tr>\n    <tr>\n      <th>5</th>\n      <td>40</td>\n      <td>6608</td>\n      <td>Pianist, The (2002)</td>\n      <td>4.08198</td>\n    </tr>\n    <tr>\n      <th>29</th>\n      <td>40</td>\n      <td>8328</td>\n      <td>Taxi Driver (1976)</td>\n      <td>4.0762</td>\n    </tr>\n    <tr>\n      <th>32</th>\n      <td>40</td>\n      <td>2874</td>\n      <td>Eyes Wide Shut (1999)</td>\n      <td>4.02458</td>\n    </tr>\n    <tr>\n      <th>25</th>\n      <td>40</td>\n      <td>4028</td>\n      <td>Horrible Bosses (2011)</td>\n      <td>4.00758</td>\n    </tr>\n    <tr>\n      <th>26</th>\n      <td>40</td>\n      <td>916</td>\n      <td>Bedazzled (2000)</td>\n      <td>3.98856</td>\n    </tr>\n    <tr>\n      <th>35</th>\n      <td>40</td>\n      <td>9381</td>\n      <td>When Harry Met Sally... (1989)</td>\n      <td>3.98356</td>\n    </tr>\n    <tr>\n      <th>22</th>\n      <td>40</td>\n      <td>880</td>\n      <td>Beach, The (2000)</td>\n      <td>3.98076</td>\n    </tr>\n    <tr>\n      <th>13</th>\n      <td>40</td>\n      <td>6415</td>\n      <td>P.S. I Love You (2007)</td>\n      <td>3.97331</td>\n    </tr>\n    <tr>\n      <th>3</th>\n      <td>40</td>\n      <td>7079</td>\n      <td>Reservoir Dogs (1992)</td>\n      <td>3.97245</td>\n    </tr>\n    <tr>\n      <th>33</th>\n      <td>40</td>\n      <td>5370</td>\n      <td>Maleficent (2014)</td>\n      <td>3.89837</td>\n    </tr>\n    <tr>\n      <th>14</th>\n      <td>40</td>\n      <td>5563</td>\n      <td>Meet the Fockers (2004)</td>\n      <td>3.88707</td>\n    </tr>\n    <tr>\n      <th>23</th>\n      <td>40</td>\n      <td>4360</td>\n      <td>Inglourious Basterds (2009)</td>\n      <td>3.87876</td>\n    </tr>\n    <tr>\n      <th>16</th>\n      <td>40</td>\n      <td>7542</td>\n      <td>Sex and the City (2008)</td>\n      <td>3.84409</td>\n    </tr>\n    <tr>\n      <th>7</th>\n      <td>40</td>\n      <td>193</td>\n      <td>About a Boy (2002)</td>\n      <td>3.52212</td>\n    </tr>\n    <tr>\n      <th>30</th>\n      <td>40</td>\n      <td>5503</td>\n      <td>Match Point (2005)</td>\n      <td>3.49434</td>\n    </tr>\n    <tr>\n      <th>39</th>\n      <td>40</td>\n      <td>2591</td>\n      <td>Drive (2011)</td>\n      <td>3.48478</td>\n    </tr>\n    <tr>\n      <th>40</th>\n      <td>40</td>\n      <td>376</td>\n      <td>Along Came Polly (2004)</td>\n      <td>3.24403</td>\n    </tr>\n    <tr>\n      <th>10</th>\n      <td>40</td>\n      <td>4136</td>\n      <td>Hunt, The (Jagten) (2012)</td>\n      <td>3.16037</td>\n    </tr>\n    <tr>\n      <th>9</th>\n      <td>40</td>\n      <td>4454</td>\n      <td>Island, The (2005)</td>\n      <td>3.16011</td>\n    </tr>\n    <tr>\n      <th>17</th>\n      <td>40</td>\n      <td>7292</td>\n      <td>Run Lola Run (Lola rennt) (1998)</td>\n      <td>3.13546</td>\n    </tr>\n    <tr>\n      <th>21</th>\n      <td>40</td>\n      <td>3011</td>\n      <td>Fight Club (1999)</td>\n      <td>3.00039</td>\n    </tr>\n    <tr>\n      <th>1</th>\n      <td>40</td>\n      <td>6114</td>\n      <td>Nightcrawler (2014)</td>\n      <td>2.96639</td>\n    </tr>\n    <tr>\n      <th>20</th>\n      <td>40</td>\n      <td>8885</td>\n      <td>Trainspotting (1996)</td>\n      <td>2.93601</td>\n    </tr>\n    <tr>\n      <th>18</th>\n      <td>40</td>\n      <td>3010</td>\n      <td>Fifty Shades of Grey (2015)</td>\n      <td>2.49096</td>\n    </tr>\n    <tr>\n      <th>37</th>\n      <td>40</td>\n      <td>6892</td>\n      <td>Pursuit of Happyness, The (2006)</td>\n      <td>2.40571</td>\n    </tr>\n    <tr>\n      <th>24</th>\n      <td>40</td>\n      <td>3033</td>\n      <td>Finding Nemo (2003)</td>\n      <td>2.34878</td>\n    </tr>\n    <tr>\n      <th>6</th>\n      <td>40</td>\n      <td>8553</td>\n      <td>The Man from U.N.C.L.E. (2015)</td>\n      <td>2.34283</td>\n    </tr>\n    <tr>\n      <th>19</th>\n      <td>40</td>\n      <td>3282</td>\n      <td>Full Monty, The (1997)</td>\n      <td>2.20808</td>\n    </tr>\n    <tr>\n      <th>2</th>\n      <td>40</td>\n      <td>5465</td>\n      <td>Marley &amp; Me (2008)</td>\n      <td>2.12661</td>\n    </tr>\n  </tbody>\n</table>\n</div>"
     },
     "metadata": {},
     "execution_count": 216
    }
   ],
   "source": [
    "prediction_dataframe = pd.DataFrame.from_dict(dictionary, orient='index').transpose()\n",
    "prediction_dataframe.sort_values('ratings', ascending=False)"
   ]
  },
  {
   "cell_type": "code",
   "execution_count": 206,
   "metadata": {},
   "outputs": [
    {
     "output_type": "execute_result",
     "data": {
      "text/plain": [
       "   user_id movie_id                         movie_name  ratings\n",
       "1       10     7761                 Sling Blade (1996)  4.67632\n",
       "13      10     7680   Silence of the Lambs, The (1991)  4.54579\n",
       "5       10     1337                  Braveheart (1995)  4.40964\n",
       "10      10     8363  Terminator 2: Judgment Day (1991)   4.3694\n",
       "9       10     3279               Fugitive, The (1993)  4.28595\n",
       "6       10     3529                   GoldenEye (1995)  3.99254\n",
       "15      10     8779                     Titanic (1997)  3.94247\n",
       "2       10     1828    Clear and Present Danger (1994)  3.90622\n",
       "0       10     3508                    Godzilla (1998)  3.45628\n",
       "4       10     8949                   True Lies (1994)  3.22529\n",
       "8       10     4501                 Jackal, The (1997)  3.22038\n",
       "12      10     4517        Jane Austen's Mafia! (1998)  3.13162\n",
       "3       10     7205                   Rock, The (1996)  3.07568\n",
       "14      10      591                  Armageddon (1998)  2.59291\n",
       "11      10     5032             Lethal Weapon 4 (1998)  2.24657\n",
       "7       10     9045                 Under Siege (1992)  2.08165"
      ],
      "text/html": "<div>\n<style scoped>\n    .dataframe tbody tr th:only-of-type {\n        vertical-align: middle;\n    }\n\n    .dataframe tbody tr th {\n        vertical-align: top;\n    }\n\n    .dataframe thead th {\n        text-align: right;\n    }\n</style>\n<table border=\"1\" class=\"dataframe\">\n  <thead>\n    <tr style=\"text-align: right;\">\n      <th></th>\n      <th>user_id</th>\n      <th>movie_id</th>\n      <th>movie_name</th>\n      <th>ratings</th>\n    </tr>\n  </thead>\n  <tbody>\n    <tr>\n      <th>1</th>\n      <td>10</td>\n      <td>7761</td>\n      <td>Sling Blade (1996)</td>\n      <td>4.67632</td>\n    </tr>\n    <tr>\n      <th>13</th>\n      <td>10</td>\n      <td>7680</td>\n      <td>Silence of the Lambs, The (1991)</td>\n      <td>4.54579</td>\n    </tr>\n    <tr>\n      <th>5</th>\n      <td>10</td>\n      <td>1337</td>\n      <td>Braveheart (1995)</td>\n      <td>4.40964</td>\n    </tr>\n    <tr>\n      <th>10</th>\n      <td>10</td>\n      <td>8363</td>\n      <td>Terminator 2: Judgment Day (1991)</td>\n      <td>4.3694</td>\n    </tr>\n    <tr>\n      <th>9</th>\n      <td>10</td>\n      <td>3279</td>\n      <td>Fugitive, The (1993)</td>\n      <td>4.28595</td>\n    </tr>\n    <tr>\n      <th>6</th>\n      <td>10</td>\n      <td>3529</td>\n      <td>GoldenEye (1995)</td>\n      <td>3.99254</td>\n    </tr>\n    <tr>\n      <th>15</th>\n      <td>10</td>\n      <td>8779</td>\n      <td>Titanic (1997)</td>\n      <td>3.94247</td>\n    </tr>\n    <tr>\n      <th>2</th>\n      <td>10</td>\n      <td>1828</td>\n      <td>Clear and Present Danger (1994)</td>\n      <td>3.90622</td>\n    </tr>\n    <tr>\n      <th>0</th>\n      <td>10</td>\n      <td>3508</td>\n      <td>Godzilla (1998)</td>\n      <td>3.45628</td>\n    </tr>\n    <tr>\n      <th>4</th>\n      <td>10</td>\n      <td>8949</td>\n      <td>True Lies (1994)</td>\n      <td>3.22529</td>\n    </tr>\n    <tr>\n      <th>8</th>\n      <td>10</td>\n      <td>4501</td>\n      <td>Jackal, The (1997)</td>\n      <td>3.22038</td>\n    </tr>\n    <tr>\n      <th>12</th>\n      <td>10</td>\n      <td>4517</td>\n      <td>Jane Austen's Mafia! (1998)</td>\n      <td>3.13162</td>\n    </tr>\n    <tr>\n      <th>3</th>\n      <td>10</td>\n      <td>7205</td>\n      <td>Rock, The (1996)</td>\n      <td>3.07568</td>\n    </tr>\n    <tr>\n      <th>14</th>\n      <td>10</td>\n      <td>591</td>\n      <td>Armageddon (1998)</td>\n      <td>2.59291</td>\n    </tr>\n    <tr>\n      <th>11</th>\n      <td>10</td>\n      <td>5032</td>\n      <td>Lethal Weapon 4 (1998)</td>\n      <td>2.24657</td>\n    </tr>\n    <tr>\n      <th>7</th>\n      <td>10</td>\n      <td>9045</td>\n      <td>Under Siege (1992)</td>\n      <td>2.08165</td>\n    </tr>\n  </tbody>\n</table>\n</div>"
     },
     "metadata": {},
     "execution_count": 206
    }
   ],
   "source": []
  },
  {
   "cell_type": "code",
   "execution_count": null,
   "metadata": {},
   "outputs": [],
   "source": []
  }
 ]
}